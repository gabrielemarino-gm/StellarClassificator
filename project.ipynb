{
 "cells": [
  {
   "cell_type": "markdown",
   "metadata": {},
   "source": [
    "<h1>Preprocessing</h1>\n",
    "The Dataset are made in this way:\n",
    "<ul>\n",
    "    <li>objid       = Object Identifier, the unique value that identifies the object in the image catalog used by the CAS</li>\n",
    "    <li>ra          = Right Ascension angle (at J2000 epoch)</li>\n",
    "    <li>dec         = Declination angle (at J2000 epoch)</li>\n",
    "    <li>u           = Ultraviolet filter in the photometric system</li>\n",
    "    <li>g           = Green filter in the photometric system</li>\n",
    "    <li>r           = Red filter in the photometric system</li>\n",
    "    <li>i           = Near Infrared filter in the photometric system</li>\n",
    "    <li>z           = Infrared filter in the photometric system</li>\n",
    "    <li>run         = Run Number used to identify the specific scan</li>\n",
    "    <li>rereun      = Rerun Number to specify how the image was processed</li>\n",
    "    <li>camcol      = Camera column to identify the scanline within the run</li>\n",
    "    <li>field       = Field number to identify each field</li>\n",
    "    <li>specobjid   = Unique ID used for optical spectroscopic objects (this means that 2 different observations with the same spec_obj_ID must share the output class)</li>\n",
    "    <li>redshift    = redshift value based on the increase in wavelength</li>\n",
    "    <li>plate       = plate ID, identifies each plate in SDSS</li>\n",
    "    <li>mjd         = Modified Julian Date, used to indicate when a given piece of SDSS data was taken</li>\n",
    "    <li>fiberid     = fiber ID that identifies the fiber that pointed the light at the focal plane in each observation</li>\n",
    "    <li>class       = object class (galaxy, star or quasar object)</li>\n",
    "</ul>"
   ]
  },
  {
   "cell_type": "code",
   "execution_count": 1,
   "metadata": {},
   "outputs": [],
   "source": [
    "import os\n",
    "import pandas as pd\n",
    "import seaborn as sns\n",
    "import matplotlib.pylab as plt"
   ]
  },
  {
   "cell_type": "markdown",
   "metadata": {},
   "source": [
    "Let's start loading the dataset in a dataframe"
   ]
  },
  {
   "cell_type": "code",
   "execution_count": 4,
   "metadata": {},
   "outputs": [
    {
     "ename": "FileNotFoundError",
     "evalue": "[Errno 2] No such file or directory: 'FileCSV/star_classification.csv'",
     "output_type": "error",
     "traceback": [
      "\u001b[0;31m---------------------------------------------------------------------------\u001b[0m",
      "\u001b[0;31mFileNotFoundError\u001b[0m                         Traceback (most recent call last)",
      "\u001b[1;32m/Users/gabriele/Desktop/Università/Primo Anno/Data Mining and Machine Learnig/StellarClassificator/project.ipynb Cella 4\u001b[0m in \u001b[0;36m<cell line: 2>\u001b[0;34m()\u001b[0m\n\u001b[1;32m      <a href='vscode-notebook-cell:/Users/gabriele/Desktop/Universit%C3%A0/Primo%20Anno/Data%20Mining%20and%20Machine%20Learnig/StellarClassificator/project.ipynb#W3sZmlsZQ%3D%3D?line=0'>1</a>\u001b[0m \u001b[39m# dfStars = pd.read_csv('Skyserver_12_15_2020 3 45 07 AM.csv', na_values=\"?\")\u001b[39;00m\n\u001b[0;32m----> <a href='vscode-notebook-cell:/Users/gabriele/Desktop/Universit%C3%A0/Primo%20Anno/Data%20Mining%20and%20Machine%20Learnig/StellarClassificator/project.ipynb#W3sZmlsZQ%3D%3D?line=1'>2</a>\u001b[0m dfStars \u001b[39m=\u001b[39m pd\u001b[39m.\u001b[39;49mread_csv(\u001b[39m'\u001b[39;49m\u001b[39mFileCSV/star_classification.csv\u001b[39;49m\u001b[39m'\u001b[39;49m, na_values\u001b[39m=\u001b[39;49m\u001b[39m\"\u001b[39;49m\u001b[39m?\u001b[39;49m\u001b[39m\"\u001b[39;49m)\n\u001b[1;32m      <a href='vscode-notebook-cell:/Users/gabriele/Desktop/Universit%C3%A0/Primo%20Anno/Data%20Mining%20and%20Machine%20Learnig/StellarClassificator/project.ipynb#W3sZmlsZQ%3D%3D?line=2'>3</a>\u001b[0m dfStars\n",
      "File \u001b[0;32m~/opt/anaconda3/envs/DMML/lib/python3.10/site-packages/pandas/util/_decorators.py:211\u001b[0m, in \u001b[0;36mdeprecate_kwarg.<locals>._deprecate_kwarg.<locals>.wrapper\u001b[0;34m(*args, **kwargs)\u001b[0m\n\u001b[1;32m    209\u001b[0m     \u001b[39melse\u001b[39;00m:\n\u001b[1;32m    210\u001b[0m         kwargs[new_arg_name] \u001b[39m=\u001b[39m new_arg_value\n\u001b[0;32m--> 211\u001b[0m \u001b[39mreturn\u001b[39;00m func(\u001b[39m*\u001b[39;49margs, \u001b[39m*\u001b[39;49m\u001b[39m*\u001b[39;49mkwargs)\n",
      "File \u001b[0;32m~/opt/anaconda3/envs/DMML/lib/python3.10/site-packages/pandas/util/_decorators.py:317\u001b[0m, in \u001b[0;36mdeprecate_nonkeyword_arguments.<locals>.decorate.<locals>.wrapper\u001b[0;34m(*args, **kwargs)\u001b[0m\n\u001b[1;32m    311\u001b[0m \u001b[39mif\u001b[39;00m \u001b[39mlen\u001b[39m(args) \u001b[39m>\u001b[39m num_allow_args:\n\u001b[1;32m    312\u001b[0m     warnings\u001b[39m.\u001b[39mwarn(\n\u001b[1;32m    313\u001b[0m         msg\u001b[39m.\u001b[39mformat(arguments\u001b[39m=\u001b[39marguments),\n\u001b[1;32m    314\u001b[0m         \u001b[39mFutureWarning\u001b[39;00m,\n\u001b[1;32m    315\u001b[0m         stacklevel\u001b[39m=\u001b[39mfind_stack_level(inspect\u001b[39m.\u001b[39mcurrentframe()),\n\u001b[1;32m    316\u001b[0m     )\n\u001b[0;32m--> 317\u001b[0m \u001b[39mreturn\u001b[39;00m func(\u001b[39m*\u001b[39;49margs, \u001b[39m*\u001b[39;49m\u001b[39m*\u001b[39;49mkwargs)\n",
      "File \u001b[0;32m~/opt/anaconda3/envs/DMML/lib/python3.10/site-packages/pandas/io/parsers/readers.py:950\u001b[0m, in \u001b[0;36mread_csv\u001b[0;34m(filepath_or_buffer, sep, delimiter, header, names, index_col, usecols, squeeze, prefix, mangle_dupe_cols, dtype, engine, converters, true_values, false_values, skipinitialspace, skiprows, skipfooter, nrows, na_values, keep_default_na, na_filter, verbose, skip_blank_lines, parse_dates, infer_datetime_format, keep_date_col, date_parser, dayfirst, cache_dates, iterator, chunksize, compression, thousands, decimal, lineterminator, quotechar, quoting, doublequote, escapechar, comment, encoding, encoding_errors, dialect, error_bad_lines, warn_bad_lines, on_bad_lines, delim_whitespace, low_memory, memory_map, float_precision, storage_options)\u001b[0m\n\u001b[1;32m    935\u001b[0m kwds_defaults \u001b[39m=\u001b[39m _refine_defaults_read(\n\u001b[1;32m    936\u001b[0m     dialect,\n\u001b[1;32m    937\u001b[0m     delimiter,\n\u001b[0;32m   (...)\u001b[0m\n\u001b[1;32m    946\u001b[0m     defaults\u001b[39m=\u001b[39m{\u001b[39m\"\u001b[39m\u001b[39mdelimiter\u001b[39m\u001b[39m\"\u001b[39m: \u001b[39m\"\u001b[39m\u001b[39m,\u001b[39m\u001b[39m\"\u001b[39m},\n\u001b[1;32m    947\u001b[0m )\n\u001b[1;32m    948\u001b[0m kwds\u001b[39m.\u001b[39mupdate(kwds_defaults)\n\u001b[0;32m--> 950\u001b[0m \u001b[39mreturn\u001b[39;00m _read(filepath_or_buffer, kwds)\n",
      "File \u001b[0;32m~/opt/anaconda3/envs/DMML/lib/python3.10/site-packages/pandas/io/parsers/readers.py:605\u001b[0m, in \u001b[0;36m_read\u001b[0;34m(filepath_or_buffer, kwds)\u001b[0m\n\u001b[1;32m    602\u001b[0m _validate_names(kwds\u001b[39m.\u001b[39mget(\u001b[39m\"\u001b[39m\u001b[39mnames\u001b[39m\u001b[39m\"\u001b[39m, \u001b[39mNone\u001b[39;00m))\n\u001b[1;32m    604\u001b[0m \u001b[39m# Create the parser.\u001b[39;00m\n\u001b[0;32m--> 605\u001b[0m parser \u001b[39m=\u001b[39m TextFileReader(filepath_or_buffer, \u001b[39m*\u001b[39;49m\u001b[39m*\u001b[39;49mkwds)\n\u001b[1;32m    607\u001b[0m \u001b[39mif\u001b[39;00m chunksize \u001b[39mor\u001b[39;00m iterator:\n\u001b[1;32m    608\u001b[0m     \u001b[39mreturn\u001b[39;00m parser\n",
      "File \u001b[0;32m~/opt/anaconda3/envs/DMML/lib/python3.10/site-packages/pandas/io/parsers/readers.py:1442\u001b[0m, in \u001b[0;36mTextFileReader.__init__\u001b[0;34m(self, f, engine, **kwds)\u001b[0m\n\u001b[1;32m   1439\u001b[0m     \u001b[39mself\u001b[39m\u001b[39m.\u001b[39moptions[\u001b[39m\"\u001b[39m\u001b[39mhas_index_names\u001b[39m\u001b[39m\"\u001b[39m] \u001b[39m=\u001b[39m kwds[\u001b[39m\"\u001b[39m\u001b[39mhas_index_names\u001b[39m\u001b[39m\"\u001b[39m]\n\u001b[1;32m   1441\u001b[0m \u001b[39mself\u001b[39m\u001b[39m.\u001b[39mhandles: IOHandles \u001b[39m|\u001b[39m \u001b[39mNone\u001b[39;00m \u001b[39m=\u001b[39m \u001b[39mNone\u001b[39;00m\n\u001b[0;32m-> 1442\u001b[0m \u001b[39mself\u001b[39m\u001b[39m.\u001b[39m_engine \u001b[39m=\u001b[39m \u001b[39mself\u001b[39;49m\u001b[39m.\u001b[39;49m_make_engine(f, \u001b[39mself\u001b[39;49m\u001b[39m.\u001b[39;49mengine)\n",
      "File \u001b[0;32m~/opt/anaconda3/envs/DMML/lib/python3.10/site-packages/pandas/io/parsers/readers.py:1729\u001b[0m, in \u001b[0;36mTextFileReader._make_engine\u001b[0;34m(self, f, engine)\u001b[0m\n\u001b[1;32m   1727\u001b[0m     is_text \u001b[39m=\u001b[39m \u001b[39mFalse\u001b[39;00m\n\u001b[1;32m   1728\u001b[0m     mode \u001b[39m=\u001b[39m \u001b[39m\"\u001b[39m\u001b[39mrb\u001b[39m\u001b[39m\"\u001b[39m\n\u001b[0;32m-> 1729\u001b[0m \u001b[39mself\u001b[39m\u001b[39m.\u001b[39mhandles \u001b[39m=\u001b[39m get_handle(\n\u001b[1;32m   1730\u001b[0m     f,\n\u001b[1;32m   1731\u001b[0m     mode,\n\u001b[1;32m   1732\u001b[0m     encoding\u001b[39m=\u001b[39;49m\u001b[39mself\u001b[39;49m\u001b[39m.\u001b[39;49moptions\u001b[39m.\u001b[39;49mget(\u001b[39m\"\u001b[39;49m\u001b[39mencoding\u001b[39;49m\u001b[39m\"\u001b[39;49m, \u001b[39mNone\u001b[39;49;00m),\n\u001b[1;32m   1733\u001b[0m     compression\u001b[39m=\u001b[39;49m\u001b[39mself\u001b[39;49m\u001b[39m.\u001b[39;49moptions\u001b[39m.\u001b[39;49mget(\u001b[39m\"\u001b[39;49m\u001b[39mcompression\u001b[39;49m\u001b[39m\"\u001b[39;49m, \u001b[39mNone\u001b[39;49;00m),\n\u001b[1;32m   1734\u001b[0m     memory_map\u001b[39m=\u001b[39;49m\u001b[39mself\u001b[39;49m\u001b[39m.\u001b[39;49moptions\u001b[39m.\u001b[39;49mget(\u001b[39m\"\u001b[39;49m\u001b[39mmemory_map\u001b[39;49m\u001b[39m\"\u001b[39;49m, \u001b[39mFalse\u001b[39;49;00m),\n\u001b[1;32m   1735\u001b[0m     is_text\u001b[39m=\u001b[39;49mis_text,\n\u001b[1;32m   1736\u001b[0m     errors\u001b[39m=\u001b[39;49m\u001b[39mself\u001b[39;49m\u001b[39m.\u001b[39;49moptions\u001b[39m.\u001b[39;49mget(\u001b[39m\"\u001b[39;49m\u001b[39mencoding_errors\u001b[39;49m\u001b[39m\"\u001b[39;49m, \u001b[39m\"\u001b[39;49m\u001b[39mstrict\u001b[39;49m\u001b[39m\"\u001b[39;49m),\n\u001b[1;32m   1737\u001b[0m     storage_options\u001b[39m=\u001b[39;49m\u001b[39mself\u001b[39;49m\u001b[39m.\u001b[39;49moptions\u001b[39m.\u001b[39;49mget(\u001b[39m\"\u001b[39;49m\u001b[39mstorage_options\u001b[39;49m\u001b[39m\"\u001b[39;49m, \u001b[39mNone\u001b[39;49;00m),\n\u001b[1;32m   1738\u001b[0m )\n\u001b[1;32m   1739\u001b[0m \u001b[39massert\u001b[39;00m \u001b[39mself\u001b[39m\u001b[39m.\u001b[39mhandles \u001b[39mis\u001b[39;00m \u001b[39mnot\u001b[39;00m \u001b[39mNone\u001b[39;00m\n\u001b[1;32m   1740\u001b[0m f \u001b[39m=\u001b[39m \u001b[39mself\u001b[39m\u001b[39m.\u001b[39mhandles\u001b[39m.\u001b[39mhandle\n",
      "File \u001b[0;32m~/opt/anaconda3/envs/DMML/lib/python3.10/site-packages/pandas/io/common.py:857\u001b[0m, in \u001b[0;36mget_handle\u001b[0;34m(path_or_buf, mode, encoding, compression, memory_map, is_text, errors, storage_options)\u001b[0m\n\u001b[1;32m    852\u001b[0m \u001b[39melif\u001b[39;00m \u001b[39misinstance\u001b[39m(handle, \u001b[39mstr\u001b[39m):\n\u001b[1;32m    853\u001b[0m     \u001b[39m# Check whether the filename is to be opened in binary mode.\u001b[39;00m\n\u001b[1;32m    854\u001b[0m     \u001b[39m# Binary mode does not support 'encoding' and 'newline'.\u001b[39;00m\n\u001b[1;32m    855\u001b[0m     \u001b[39mif\u001b[39;00m ioargs\u001b[39m.\u001b[39mencoding \u001b[39mand\u001b[39;00m \u001b[39m\"\u001b[39m\u001b[39mb\u001b[39m\u001b[39m\"\u001b[39m \u001b[39mnot\u001b[39;00m \u001b[39min\u001b[39;00m ioargs\u001b[39m.\u001b[39mmode:\n\u001b[1;32m    856\u001b[0m         \u001b[39m# Encoding\u001b[39;00m\n\u001b[0;32m--> 857\u001b[0m         handle \u001b[39m=\u001b[39m \u001b[39mopen\u001b[39;49m(\n\u001b[1;32m    858\u001b[0m             handle,\n\u001b[1;32m    859\u001b[0m             ioargs\u001b[39m.\u001b[39;49mmode,\n\u001b[1;32m    860\u001b[0m             encoding\u001b[39m=\u001b[39;49mioargs\u001b[39m.\u001b[39;49mencoding,\n\u001b[1;32m    861\u001b[0m             errors\u001b[39m=\u001b[39;49merrors,\n\u001b[1;32m    862\u001b[0m             newline\u001b[39m=\u001b[39;49m\u001b[39m\"\u001b[39;49m\u001b[39m\"\u001b[39;49m,\n\u001b[1;32m    863\u001b[0m         )\n\u001b[1;32m    864\u001b[0m     \u001b[39melse\u001b[39;00m:\n\u001b[1;32m    865\u001b[0m         \u001b[39m# Binary mode\u001b[39;00m\n\u001b[1;32m    866\u001b[0m         handle \u001b[39m=\u001b[39m \u001b[39mopen\u001b[39m(handle, ioargs\u001b[39m.\u001b[39mmode)\n",
      "\u001b[0;31mFileNotFoundError\u001b[0m: [Errno 2] No such file or directory: 'FileCSV/star_classification.csv'"
     ]
    }
   ],
   "source": [
    "# dfStars = pd.read_csv('Skyserver_12_15_2020 3 45 07 AM.csv', na_values=\"?\")\n",
    "dfStars = pd.read_csv('FileCSV/star_classification.csv', na_values=\"?\")\n",
    "dfStars"
   ]
  },
  {
   "cell_type": "code",
   "execution_count": 3,
   "metadata": {},
   "outputs": [
    {
     "data": {
      "text/html": [
       "<div>\n",
       "<style scoped>\n",
       "    .dataframe tbody tr th:only-of-type {\n",
       "        vertical-align: middle;\n",
       "    }\n",
       "\n",
       "    .dataframe tbody tr th {\n",
       "        vertical-align: top;\n",
       "    }\n",
       "\n",
       "    .dataframe thead th {\n",
       "        text-align: right;\n",
       "    }\n",
       "</style>\n",
       "<table border=\"1\" class=\"dataframe\">\n",
       "  <thead>\n",
       "    <tr style=\"text-align: right;\">\n",
       "      <th></th>\n",
       "      <th>0</th>\n",
       "      <th>1</th>\n",
       "      <th>2</th>\n",
       "      <th>3</th>\n",
       "      <th>4</th>\n",
       "    </tr>\n",
       "  </thead>\n",
       "  <tbody>\n",
       "    <tr>\n",
       "      <th>objid</th>\n",
       "      <td>1237660961327743232.0</td>\n",
       "      <td>1237664879951151104.0</td>\n",
       "      <td>1237660961330430208.0</td>\n",
       "      <td>1237663478724297984.0</td>\n",
       "      <td>1237680272041378048.0</td>\n",
       "    </tr>\n",
       "    <tr>\n",
       "      <th>ra</th>\n",
       "      <td>135.689107</td>\n",
       "      <td>144.826101</td>\n",
       "      <td>142.18879</td>\n",
       "      <td>338.741038</td>\n",
       "      <td>345.282593</td>\n",
       "    </tr>\n",
       "    <tr>\n",
       "      <th>dec</th>\n",
       "      <td>32.494632</td>\n",
       "      <td>31.274185</td>\n",
       "      <td>35.582444</td>\n",
       "      <td>-0.402828</td>\n",
       "      <td>21.183866</td>\n",
       "    </tr>\n",
       "    <tr>\n",
       "      <th>u</th>\n",
       "      <td>23.87882</td>\n",
       "      <td>24.77759</td>\n",
       "      <td>25.26307</td>\n",
       "      <td>22.13682</td>\n",
       "      <td>19.43718</td>\n",
       "    </tr>\n",
       "    <tr>\n",
       "      <th>g</th>\n",
       "      <td>22.2753</td>\n",
       "      <td>22.83188</td>\n",
       "      <td>22.66389</td>\n",
       "      <td>23.77656</td>\n",
       "      <td>17.58028</td>\n",
       "    </tr>\n",
       "    <tr>\n",
       "      <th>r</th>\n",
       "      <td>20.39501</td>\n",
       "      <td>22.58444</td>\n",
       "      <td>20.60976</td>\n",
       "      <td>21.61162</td>\n",
       "      <td>16.49747</td>\n",
       "    </tr>\n",
       "    <tr>\n",
       "      <th>i</th>\n",
       "      <td>19.16573</td>\n",
       "      <td>21.16812</td>\n",
       "      <td>19.34857</td>\n",
       "      <td>20.50454</td>\n",
       "      <td>15.97711</td>\n",
       "    </tr>\n",
       "    <tr>\n",
       "      <th>z</th>\n",
       "      <td>18.79371</td>\n",
       "      <td>21.61427</td>\n",
       "      <td>18.94827</td>\n",
       "      <td>19.2501</td>\n",
       "      <td>15.54461</td>\n",
       "    </tr>\n",
       "    <tr>\n",
       "      <th>run</th>\n",
       "      <td>3606</td>\n",
       "      <td>4518</td>\n",
       "      <td>3606</td>\n",
       "      <td>4192</td>\n",
       "      <td>8102</td>\n",
       "    </tr>\n",
       "    <tr>\n",
       "      <th>rerun</th>\n",
       "      <td>301</td>\n",
       "      <td>301</td>\n",
       "      <td>301</td>\n",
       "      <td>301</td>\n",
       "      <td>301</td>\n",
       "    </tr>\n",
       "    <tr>\n",
       "      <th>camcol</th>\n",
       "      <td>2</td>\n",
       "      <td>5</td>\n",
       "      <td>2</td>\n",
       "      <td>3</td>\n",
       "      <td>3</td>\n",
       "    </tr>\n",
       "    <tr>\n",
       "      <th>field</th>\n",
       "      <td>79</td>\n",
       "      <td>119</td>\n",
       "      <td>120</td>\n",
       "      <td>214</td>\n",
       "      <td>137</td>\n",
       "    </tr>\n",
       "    <tr>\n",
       "      <th>specobjid</th>\n",
       "      <td>6543777369295181824.0</td>\n",
       "      <td>11760142036707334144.0</td>\n",
       "      <td>5152200256025548800.0</td>\n",
       "      <td>10301071412954419200.0</td>\n",
       "      <td>6891864880783316992.0</td>\n",
       "    </tr>\n",
       "    <tr>\n",
       "      <th>class</th>\n",
       "      <td>GALAXY</td>\n",
       "      <td>GALAXY</td>\n",
       "      <td>GALAXY</td>\n",
       "      <td>GALAXY</td>\n",
       "      <td>GALAXY</td>\n",
       "    </tr>\n",
       "    <tr>\n",
       "      <th>redshift</th>\n",
       "      <td>0.634794</td>\n",
       "      <td>0.779136</td>\n",
       "      <td>0.644195</td>\n",
       "      <td>0.932346</td>\n",
       "      <td>0.116123</td>\n",
       "    </tr>\n",
       "    <tr>\n",
       "      <th>plate</th>\n",
       "      <td>5812</td>\n",
       "      <td>10445</td>\n",
       "      <td>4576</td>\n",
       "      <td>9149</td>\n",
       "      <td>6121</td>\n",
       "    </tr>\n",
       "    <tr>\n",
       "      <th>mjd</th>\n",
       "      <td>56354</td>\n",
       "      <td>58158</td>\n",
       "      <td>55592</td>\n",
       "      <td>58039</td>\n",
       "      <td>56187</td>\n",
       "    </tr>\n",
       "    <tr>\n",
       "      <th>fiberid</th>\n",
       "      <td>171</td>\n",
       "      <td>427</td>\n",
       "      <td>299</td>\n",
       "      <td>775</td>\n",
       "      <td>842</td>\n",
       "    </tr>\n",
       "  </tbody>\n",
       "</table>\n",
       "</div>"
      ],
      "text/plain": [
       "                               0                       1  \\\n",
       "objid      1237660961327743232.0   1237664879951151104.0   \n",
       "ra                    135.689107              144.826101   \n",
       "dec                    32.494632               31.274185   \n",
       "u                       23.87882                24.77759   \n",
       "g                        22.2753                22.83188   \n",
       "r                       20.39501                22.58444   \n",
       "i                       19.16573                21.16812   \n",
       "z                       18.79371                21.61427   \n",
       "run                         3606                    4518   \n",
       "rerun                        301                     301   \n",
       "camcol                         2                       5   \n",
       "field                         79                     119   \n",
       "specobjid  6543777369295181824.0  11760142036707334144.0   \n",
       "class                     GALAXY                  GALAXY   \n",
       "redshift                0.634794                0.779136   \n",
       "plate                       5812                   10445   \n",
       "mjd                        56354                   58158   \n",
       "fiberid                      171                     427   \n",
       "\n",
       "                               2                       3  \\\n",
       "objid      1237660961330430208.0   1237663478724297984.0   \n",
       "ra                     142.18879              338.741038   \n",
       "dec                    35.582444               -0.402828   \n",
       "u                       25.26307                22.13682   \n",
       "g                       22.66389                23.77656   \n",
       "r                       20.60976                21.61162   \n",
       "i                       19.34857                20.50454   \n",
       "z                       18.94827                 19.2501   \n",
       "run                         3606                    4192   \n",
       "rerun                        301                     301   \n",
       "camcol                         2                       3   \n",
       "field                        120                     214   \n",
       "specobjid  5152200256025548800.0  10301071412954419200.0   \n",
       "class                     GALAXY                  GALAXY   \n",
       "redshift                0.644195                0.932346   \n",
       "plate                       4576                    9149   \n",
       "mjd                        55592                   58039   \n",
       "fiberid                      299                     775   \n",
       "\n",
       "                               4  \n",
       "objid      1237680272041378048.0  \n",
       "ra                    345.282593  \n",
       "dec                    21.183866  \n",
       "u                       19.43718  \n",
       "g                       17.58028  \n",
       "r                       16.49747  \n",
       "i                       15.97711  \n",
       "z                       15.54461  \n",
       "run                         8102  \n",
       "rerun                        301  \n",
       "camcol                         3  \n",
       "field                        137  \n",
       "specobjid  6891864880783316992.0  \n",
       "class                     GALAXY  \n",
       "redshift                0.116123  \n",
       "plate                       6121  \n",
       "mjd                        56187  \n",
       "fiberid                      842  "
      ]
     },
     "execution_count": 3,
     "metadata": {},
     "output_type": "execute_result"
    }
   ],
   "source": [
    "dfStars.head().T"
   ]
  },
  {
   "cell_type": "markdown",
   "metadata": {},
   "source": [
    "Here I check the distribution of the Labeled-Class"
   ]
  },
  {
   "cell_type": "code",
   "execution_count": 4,
   "metadata": {},
   "outputs": [
    {
     "data": {
      "text/plain": [
       "GALAXY    59445\n",
       "STAR      21594\n",
       "QSO       18961\n",
       "Name: class, dtype: int64"
      ]
     },
     "execution_count": 4,
     "metadata": {},
     "output_type": "execute_result"
    }
   ],
   "source": [
    "dfStars['class'].value_counts()"
   ]
  },
  {
   "cell_type": "code",
   "execution_count": 5,
   "metadata": {},
   "outputs": [
    {
     "data": {
      "image/png": "[encoded data removed]",
      "text/plain": [
       "<Figure size 500x500 with 1 Axes>"
      ]
     },
     "metadata": {},
     "output_type": "display_data"
    }
   ],
   "source": [
    "fig,axes = plt.subplots(1, 1, figsize=(5,5), sharey=True)\n",
    "sns.countplot(x='class',data = dfStars, ax = axes, order = dfStars['class'].value_counts().index)\n",
    "plt.show()"
   ]
  },
  {
   "cell_type": "markdown",
   "metadata": {},
   "source": [
    "Check same info about the feature of the DataSet"
   ]
  },
  {
   "cell_type": "code",
   "execution_count": 6,
   "metadata": {},
   "outputs": [
    {
     "data": {
      "text/html": [
       "<div>\n",
       "<style scoped>\n",
       "    .dataframe tbody tr th:only-of-type {\n",
       "        vertical-align: middle;\n",
       "    }\n",
       "\n",
       "    .dataframe tbody tr th {\n",
       "        vertical-align: top;\n",
       "    }\n",
       "\n",
       "    .dataframe thead th {\n",
       "        text-align: right;\n",
       "    }\n",
       "</style>\n",
       "<table border=\"1\" class=\"dataframe\">\n",
       "  <thead>\n",
       "    <tr style=\"text-align: right;\">\n",
       "      <th></th>\n",
       "      <th>objid</th>\n",
       "      <th>ra</th>\n",
       "      <th>dec</th>\n",
       "      <th>u</th>\n",
       "      <th>g</th>\n",
       "      <th>r</th>\n",
       "      <th>i</th>\n",
       "      <th>z</th>\n",
       "      <th>run</th>\n",
       "      <th>rerun</th>\n",
       "      <th>camcol</th>\n",
       "      <th>field</th>\n",
       "      <th>specobjid</th>\n",
       "      <th>redshift</th>\n",
       "      <th>plate</th>\n",
       "      <th>mjd</th>\n",
       "      <th>fiberid</th>\n",
       "    </tr>\n",
       "  </thead>\n",
       "  <tbody>\n",
       "    <tr>\n",
       "      <th>count</th>\n",
       "      <td>1.000000e+05</td>\n",
       "      <td>100000.000000</td>\n",
       "      <td>100000.000000</td>\n",
       "      <td>100000.000000</td>\n",
       "      <td>100000.000000</td>\n",
       "      <td>100000.000000</td>\n",
       "      <td>100000.000000</td>\n",
       "      <td>100000.000000</td>\n",
       "      <td>100000.000000</td>\n",
       "      <td>100000.0</td>\n",
       "      <td>100000.000000</td>\n",
       "      <td>100000.000000</td>\n",
       "      <td>1.000000e+05</td>\n",
       "      <td>100000.000000</td>\n",
       "      <td>100000.000000</td>\n",
       "      <td>100000.000000</td>\n",
       "      <td>100000.000000</td>\n",
       "    </tr>\n",
       "    <tr>\n",
       "      <th>mean</th>\n",
       "      <td>1.237665e+18</td>\n",
       "      <td>177.629117</td>\n",
       "      <td>24.135305</td>\n",
       "      <td>21.980468</td>\n",
       "      <td>20.531387</td>\n",
       "      <td>19.645762</td>\n",
       "      <td>19.084854</td>\n",
       "      <td>18.668810</td>\n",
       "      <td>4481.366060</td>\n",
       "      <td>301.0</td>\n",
       "      <td>3.511610</td>\n",
       "      <td>186.130520</td>\n",
       "      <td>5.783882e+18</td>\n",
       "      <td>0.576661</td>\n",
       "      <td>5137.009660</td>\n",
       "      <td>55588.647500</td>\n",
       "      <td>449.312740</td>\n",
       "    </tr>\n",
       "    <tr>\n",
       "      <th>std</th>\n",
       "      <td>8.438560e+12</td>\n",
       "      <td>96.502241</td>\n",
       "      <td>19.644665</td>\n",
       "      <td>31.769291</td>\n",
       "      <td>31.750292</td>\n",
       "      <td>1.854760</td>\n",
       "      <td>1.757895</td>\n",
       "      <td>31.728152</td>\n",
       "      <td>1964.764593</td>\n",
       "      <td>0.0</td>\n",
       "      <td>1.586912</td>\n",
       "      <td>149.011073</td>\n",
       "      <td>3.324016e+18</td>\n",
       "      <td>0.730707</td>\n",
       "      <td>2952.303351</td>\n",
       "      <td>1808.484233</td>\n",
       "      <td>272.498404</td>\n",
       "    </tr>\n",
       "    <tr>\n",
       "      <th>min</th>\n",
       "      <td>1.237646e+18</td>\n",
       "      <td>0.005528</td>\n",
       "      <td>-18.785328</td>\n",
       "      <td>-9999.000000</td>\n",
       "      <td>-9999.000000</td>\n",
       "      <td>9.822070</td>\n",
       "      <td>9.469903</td>\n",
       "      <td>-9999.000000</td>\n",
       "      <td>109.000000</td>\n",
       "      <td>301.0</td>\n",
       "      <td>1.000000</td>\n",
       "      <td>11.000000</td>\n",
       "      <td>2.995191e+17</td>\n",
       "      <td>-0.009971</td>\n",
       "      <td>266.000000</td>\n",
       "      <td>51608.000000</td>\n",
       "      <td>1.000000</td>\n",
       "    </tr>\n",
       "    <tr>\n",
       "      <th>25%</th>\n",
       "      <td>1.237659e+18</td>\n",
       "      <td>127.518222</td>\n",
       "      <td>5.146771</td>\n",
       "      <td>20.352353</td>\n",
       "      <td>18.965230</td>\n",
       "      <td>18.135828</td>\n",
       "      <td>17.732285</td>\n",
       "      <td>17.460677</td>\n",
       "      <td>3187.000000</td>\n",
       "      <td>301.0</td>\n",
       "      <td>2.000000</td>\n",
       "      <td>82.000000</td>\n",
       "      <td>2.844138e+18</td>\n",
       "      <td>0.054517</td>\n",
       "      <td>2526.000000</td>\n",
       "      <td>54234.000000</td>\n",
       "      <td>221.000000</td>\n",
       "    </tr>\n",
       "    <tr>\n",
       "      <th>50%</th>\n",
       "      <td>1.237663e+18</td>\n",
       "      <td>180.900700</td>\n",
       "      <td>23.645922</td>\n",
       "      <td>22.179135</td>\n",
       "      <td>21.099835</td>\n",
       "      <td>20.125290</td>\n",
       "      <td>19.405145</td>\n",
       "      <td>19.004595</td>\n",
       "      <td>4188.000000</td>\n",
       "      <td>301.0</td>\n",
       "      <td>4.000000</td>\n",
       "      <td>146.000000</td>\n",
       "      <td>5.614883e+18</td>\n",
       "      <td>0.424173</td>\n",
       "      <td>4987.000000</td>\n",
       "      <td>55868.500000</td>\n",
       "      <td>433.000000</td>\n",
       "    </tr>\n",
       "    <tr>\n",
       "      <th>75%</th>\n",
       "      <td>1.237668e+18</td>\n",
       "      <td>233.895005</td>\n",
       "      <td>39.901550</td>\n",
       "      <td>23.687440</td>\n",
       "      <td>22.123767</td>\n",
       "      <td>21.044785</td>\n",
       "      <td>20.396495</td>\n",
       "      <td>19.921120</td>\n",
       "      <td>5326.000000</td>\n",
       "      <td>301.0</td>\n",
       "      <td>5.000000</td>\n",
       "      <td>241.000000</td>\n",
       "      <td>8.332144e+18</td>\n",
       "      <td>0.704154</td>\n",
       "      <td>7400.250000</td>\n",
       "      <td>56777.000000</td>\n",
       "      <td>645.000000</td>\n",
       "    </tr>\n",
       "    <tr>\n",
       "      <th>max</th>\n",
       "      <td>1.237681e+18</td>\n",
       "      <td>359.999810</td>\n",
       "      <td>83.000519</td>\n",
       "      <td>32.781390</td>\n",
       "      <td>31.602240</td>\n",
       "      <td>29.571860</td>\n",
       "      <td>32.141470</td>\n",
       "      <td>29.383740</td>\n",
       "      <td>8162.000000</td>\n",
       "      <td>301.0</td>\n",
       "      <td>6.000000</td>\n",
       "      <td>989.000000</td>\n",
       "      <td>1.412694e+19</td>\n",
       "      <td>7.011245</td>\n",
       "      <td>12547.000000</td>\n",
       "      <td>58932.000000</td>\n",
       "      <td>1000.000000</td>\n",
       "    </tr>\n",
       "  </tbody>\n",
       "</table>\n",
       "</div>"
      ],
      "text/plain": [
       "              objid             ra            dec              u  \\\n",
       "count  1.000000e+05  100000.000000  100000.000000  100000.000000   \n",
       "mean   1.237665e+18     177.629117      24.135305      21.980468   \n",
       "std    8.438560e+12      96.502241      19.644665      31.769291   \n",
       "min    1.237646e+18       0.005528     -18.785328   -9999.000000   \n",
       "25%    1.237659e+18     127.518222       5.146771      20.352353   \n",
       "50%    1.237663e+18     180.900700      23.645922      22.179135   \n",
       "75%    1.237668e+18     233.895005      39.901550      23.687440   \n",
       "max    1.237681e+18     359.999810      83.000519      32.781390   \n",
       "\n",
       "                   g              r              i              z  \\\n",
       "count  100000.000000  100000.000000  100000.000000  100000.000000   \n",
       "mean       20.531387      19.645762      19.084854      18.668810   \n",
       "std        31.750292       1.854760       1.757895      31.728152   \n",
       "min     -9999.000000       9.822070       9.469903   -9999.000000   \n",
       "25%        18.965230      18.135828      17.732285      17.460677   \n",
       "50%        21.099835      20.125290      19.405145      19.004595   \n",
       "75%        22.123767      21.044785      20.396495      19.921120   \n",
       "max        31.602240      29.571860      32.141470      29.383740   \n",
       "\n",
       "                 run     rerun         camcol          field     specobjid  \\\n",
       "count  100000.000000  100000.0  100000.000000  100000.000000  1.000000e+05   \n",
       "mean     4481.366060     301.0       3.511610     186.130520  5.783882e+18   \n",
       "std      1964.764593       0.0       1.586912     149.011073  3.324016e+18   \n",
       "min       109.000000     301.0       1.000000      11.000000  2.995191e+17   \n",
       "25%      3187.000000     301.0       2.000000      82.000000  2.844138e+18   \n",
       "50%      4188.000000     301.0       4.000000     146.000000  5.614883e+18   \n",
       "75%      5326.000000     301.0       5.000000     241.000000  8.332144e+18   \n",
       "max      8162.000000     301.0       6.000000     989.000000  1.412694e+19   \n",
       "\n",
       "            redshift          plate            mjd        fiberid  \n",
       "count  100000.000000  100000.000000  100000.000000  100000.000000  \n",
       "mean        0.576661    5137.009660   55588.647500     449.312740  \n",
       "std         0.730707    2952.303351    1808.484233     272.498404  \n",
       "min        -0.009971     266.000000   51608.000000       1.000000  \n",
       "25%         0.054517    2526.000000   54234.000000     221.000000  \n",
       "50%         0.424173    4987.000000   55868.500000     433.000000  \n",
       "75%         0.704154    7400.250000   56777.000000     645.000000  \n",
       "max         7.011245   12547.000000   58932.000000    1000.000000  "
      ]
     },
     "execution_count": 6,
     "metadata": {},
     "output_type": "execute_result"
    }
   ],
   "source": [
    "dfStars.describe()"
   ]
  },
  {
   "cell_type": "code",
   "execution_count": 7,
   "metadata": {},
   "outputs": [
    {
     "name": "stdout",
     "output_type": "stream",
     "text": [
      "<class 'pandas.core.frame.DataFrame'>\n",
      "RangeIndex: 100000 entries, 0 to 99999\n",
      "Data columns (total 18 columns):\n",
      " #   Column     Non-Null Count   Dtype  \n",
      "---  ------     --------------   -----  \n",
      " 0   objid      100000 non-null  float64\n",
      " 1   ra         100000 non-null  float64\n",
      " 2   dec        100000 non-null  float64\n",
      " 3   u          100000 non-null  float64\n",
      " 4   g          100000 non-null  float64\n",
      " 5   r          100000 non-null  float64\n",
      " 6   i          100000 non-null  float64\n",
      " 7   z          100000 non-null  float64\n",
      " 8   run        100000 non-null  int64  \n",
      " 9   rerun      100000 non-null  int64  \n",
      " 10  camcol     100000 non-null  int64  \n",
      " 11  field      100000 non-null  int64  \n",
      " 12  specobjid  100000 non-null  float64\n",
      " 13  class      100000 non-null  object \n",
      " 14  redshift   100000 non-null  float64\n",
      " 15  plate      100000 non-null  int64  \n",
      " 16  mjd        100000 non-null  int64  \n",
      " 17  fiberid    100000 non-null  int64  \n",
      "dtypes: float64(10), int64(7), object(1)\n",
      "memory usage: 13.7+ MB\n"
     ]
    }
   ],
   "source": [
    "dfStars.info()"
   ]
  },
  {
   "cell_type": "markdown",
   "metadata": {},
   "source": [
    "Check for Nan or Null value"
   ]
  },
  {
   "cell_type": "code",
   "execution_count": 8,
   "metadata": {},
   "outputs": [
    {
     "data": {
      "text/plain": [
       "objid        0\n",
       "ra           0\n",
       "dec          0\n",
       "u            0\n",
       "g            0\n",
       "r            0\n",
       "i            0\n",
       "z            0\n",
       "run          0\n",
       "rerun        0\n",
       "camcol       0\n",
       "field        0\n",
       "specobjid    0\n",
       "class        0\n",
       "redshift     0\n",
       "plate        0\n",
       "mjd          0\n",
       "fiberid      0\n",
       "dtype: int64"
      ]
     },
     "execution_count": 8,
     "metadata": {},
     "output_type": "execute_result"
    }
   ],
   "source": [
    "dfStars.isna().sum(axis=0)"
   ]
  },
  {
   "cell_type": "markdown",
   "metadata": {},
   "source": [
    "Checking if there is some duplicate"
   ]
  },
  {
   "cell_type": "code",
   "execution_count": 9,
   "metadata": {},
   "outputs": [
    {
     "data": {
      "text/html": [
       "<div>\n",
       "<style scoped>\n",
       "    .dataframe tbody tr th:only-of-type {\n",
       "        vertical-align: middle;\n",
       "    }\n",
       "\n",
       "    .dataframe tbody tr th {\n",
       "        vertical-align: top;\n",
       "    }\n",
       "\n",
       "    .dataframe thead th {\n",
       "        text-align: right;\n",
       "    }\n",
       "</style>\n",
       "<table border=\"1\" class=\"dataframe\">\n",
       "  <thead>\n",
       "    <tr style=\"text-align: right;\">\n",
       "      <th></th>\n",
       "      <th>objid</th>\n",
       "      <th>ra</th>\n",
       "      <th>dec</th>\n",
       "      <th>u</th>\n",
       "      <th>g</th>\n",
       "      <th>r</th>\n",
       "      <th>i</th>\n",
       "      <th>z</th>\n",
       "      <th>run</th>\n",
       "      <th>rerun</th>\n",
       "      <th>camcol</th>\n",
       "      <th>field</th>\n",
       "      <th>specobjid</th>\n",
       "      <th>class</th>\n",
       "      <th>redshift</th>\n",
       "      <th>plate</th>\n",
       "      <th>mjd</th>\n",
       "      <th>fiberid</th>\n",
       "    </tr>\n",
       "  </thead>\n",
       "  <tbody>\n",
       "  </tbody>\n",
       "</table>\n",
       "</div>"
      ],
      "text/plain": [
       "Empty DataFrame\n",
       "Columns: [objid, ra, dec, u, g, r, i, z, run, rerun, camcol, field, specobjid, class, redshift, plate, mjd, fiberid]\n",
       "Index: []"
      ]
     },
     "execution_count": 9,
     "metadata": {},
     "output_type": "execute_result"
    }
   ],
   "source": [
    "dfStars[dfStars.duplicated(keep=False)]"
   ]
  },
  {
   "cell_type": "markdown",
   "metadata": {},
   "source": [
    "<h1>Normalization of the classed-class</h1>\n",
    "\n"
   ]
  },
  {
   "cell_type": "code",
   "execution_count": 3,
   "metadata": {},
   "outputs": [
    {
     "ename": "NameError",
     "evalue": "name 'dfStars' is not defined",
     "output_type": "error",
     "traceback": [
      "\u001b[0;31m---------------------------------------------------------------------------\u001b[0m",
      "\u001b[0;31mNameError\u001b[0m                                 Traceback (most recent call last)",
      "\u001b[1;32m/Users/gabriele/Desktop/Università/Primo Anno/Data Mining and Machine Learnig/StellarClassificator/project.ipynb Cella 17\u001b[0m in \u001b[0;36m<cell line: 2>\u001b[0;34m()\u001b[0m\n\u001b[1;32m      <a href='vscode-notebook-cell:/Users/gabriele/Desktop/Universit%C3%A0/Primo%20Anno/Data%20Mining%20and%20Machine%20Learnig/StellarClassificator/project.ipynb#X22sZmlsZQ%3D%3D?line=0'>1</a>\u001b[0m \u001b[39m# Normalize the classed-class with numerical data\u001b[39;00m\n\u001b[0;32m----> <a href='vscode-notebook-cell:/Users/gabriele/Desktop/Universit%C3%A0/Primo%20Anno/Data%20Mining%20and%20Machine%20Learnig/StellarClassificator/project.ipynb#X22sZmlsZQ%3D%3D?line=1'>2</a>\u001b[0m dfStarsNormalize \u001b[39m=\u001b[39m dfStars\n\u001b[1;32m      <a href='vscode-notebook-cell:/Users/gabriele/Desktop/Universit%C3%A0/Primo%20Anno/Data%20Mining%20and%20Machine%20Learnig/StellarClassificator/project.ipynb#X22sZmlsZQ%3D%3D?line=2'>3</a>\u001b[0m dfStarsNormalize[\u001b[39m'\u001b[39m\u001b[39mclass\u001b[39m\u001b[39m'\u001b[39m] \u001b[39m=\u001b[39m dfStarsNormalize[\u001b[39m'\u001b[39m\u001b[39mclass\u001b[39m\u001b[39m'\u001b[39m]\u001b[39m.\u001b[39mreplace({\u001b[39m'\u001b[39m\u001b[39mGALAXY\u001b[39m\u001b[39m'\u001b[39m: \u001b[39m0\u001b[39m, \u001b[39m'\u001b[39m\u001b[39mSTAR\u001b[39m\u001b[39m'\u001b[39m: \u001b[39m1\u001b[39m, \u001b[39m'\u001b[39m\u001b[39mQSO\u001b[39m\u001b[39m'\u001b[39m: \u001b[39m2\u001b[39m})\n",
      "\u001b[0;31mNameError\u001b[0m: name 'dfStars' is not defined"
     ]
    }
   ],
   "source": [
    "# Normalize the classed-class with numerical data\n",
    "dfStarsNormalize = dfStars\n",
    "dfStarsNormalize['class'] = dfStarsNormalize['class'].replace({'GALAXY': 0, 'STAR': 1, 'QSO': 2})"
   ]
  },
  {
   "cell_type": "markdown",
   "metadata": {},
   "source": [
    "<h1>Split the dataset in training set and test set.</h1>"
   ]
  },
  {
   "cell_type": "code",
   "execution_count": 11,
   "metadata": {},
   "outputs": [
    {
     "data": {
      "text/plain": [
       "((100000, 17), (100000,))"
      ]
     },
     "execution_count": 11,
     "metadata": {},
     "output_type": "execute_result"
    }
   ],
   "source": [
    "# Split the dataset into features and classs\n",
    "X = dfStarsNormalize.drop('class', axis=1)\n",
    "y = dfStarsNormalize['class']\n",
    "X.shape, y.shape"
   ]
  },
  {
   "cell_type": "code",
   "execution_count": 12,
   "metadata": {},
   "outputs": [
    {
     "name": "stdout",
     "output_type": "stream",
     "text": [
      "Shape of the train and test set\n",
      "(70000, 17)\n",
      "(30000, 17)\n",
      "\n",
      "Distribution of the labeled-classes\n",
      "\n",
      "Training Set\n",
      "0    41636\n",
      "1    15044\n",
      "2    13320\n",
      "Name: class, dtype: int64\n",
      "\n",
      "Test Set\n",
      "0    17809\n",
      "1     6550\n",
      "2     5641\n",
      "Name: class, dtype: int64\n"
     ]
    }
   ],
   "source": [
    "from sklearn.model_selection import train_test_split\n",
    "\n",
    "X_train, X_test, y_train, y_test = train_test_split(X, y, \n",
    "                                                    test_size=0.3, \n",
    "                                                    random_state=0)\n",
    "print('Shape of the train and test set')\n",
    "print(X_train.shape) # type: ignore\n",
    "print(X_test.shape) # type: ignore\n",
    "print()\n",
    "print('Distribution of the labeled-classes')  \n",
    "print()\n",
    "print(\"Training Set\")\n",
    "print(pd.Series(y_train).value_counts())\n",
    "print()\n",
    "print(\"Test Set\")\n",
    "print(pd.Series(y_test).value_counts())"
   ]
  },
  {
   "cell_type": "markdown",
   "metadata": {},
   "source": [
    "<h1>Feature Selection</h1>"
   ]
  },
  {
   "cell_type": "code",
   "execution_count": 13,
   "metadata": {},
   "outputs": [],
   "source": [
    "X_train.drop(['objid','run','rerun','camcol','field','fiberid'], axis = 1, inplace=True) # type: ignore"
   ]
  },
  {
   "cell_type": "markdown",
   "metadata": {},
   "source": [
    "<h5>USING: mutual_info_regression</h5>"
   ]
  },
  {
   "cell_type": "code",
   "execution_count": 14,
   "metadata": {},
   "outputs": [],
   "source": [
    "from sklearn.feature_selection import mutual_info_regression\n",
    "\n",
    "# Calcola il coefficiente di informazione mutua per ogni feature\n",
    "mi = mutual_info_regression(X_train, y_train)\n",
    "mi.sort()"
   ]
  },
  {
   "cell_type": "markdown",
   "metadata": {},
   "source": [
    "<h5>USING: f_regretion</h5>"
   ]
  },
  {
   "cell_type": "code",
   "execution_count": 15,
   "metadata": {},
   "outputs": [],
   "source": [
    "from sklearn.feature_selection import f_regression\n",
    "\n",
    "# Eseguiamo il test di ANOVA utilizzando f_regression\n",
    "scores, pvalues = f_regression(X_train, y_train)"
   ]
  },
  {
   "attachments": {},
   "cell_type": "markdown",
   "metadata": {},
   "source": [
    "The following DataFrame shows the score achieved by each attribute:"
   ]
  },
  {
   "cell_type": "code",
   "execution_count": 16,
   "metadata": {},
   "outputs": [
    {
     "data": {
      "text/html": [
       "<div>\n",
       "<style scoped>\n",
       "    .dataframe tbody tr th:only-of-type {\n",
       "        vertical-align: middle;\n",
       "    }\n",
       "\n",
       "    .dataframe tbody tr th {\n",
       "        vertical-align: top;\n",
       "    }\n",
       "\n",
       "    .dataframe thead th {\n",
       "        text-align: right;\n",
       "    }\n",
       "</style>\n",
       "<table border=\"1\" class=\"dataframe\">\n",
       "  <thead>\n",
       "    <tr style=\"text-align: right;\">\n",
       "      <th></th>\n",
       "      <th>f_regretion</th>\n",
       "      <th>mutual_info_regretion</th>\n",
       "    </tr>\n",
       "  </thead>\n",
       "  <tbody>\n",
       "    <tr>\n",
       "      <th>ra</th>\n",
       "      <td>0.085929</td>\n",
       "      <td>0.039620</td>\n",
       "    </tr>\n",
       "    <tr>\n",
       "      <th>dec</th>\n",
       "      <td>218.452539</td>\n",
       "      <td>0.045158</td>\n",
       "    </tr>\n",
       "    <tr>\n",
       "      <th>u</th>\n",
       "      <td>3823.399010</td>\n",
       "      <td>0.075053</td>\n",
       "    </tr>\n",
       "    <tr>\n",
       "      <th>g</th>\n",
       "      <td>305.125852</td>\n",
       "      <td>0.100450</td>\n",
       "    </tr>\n",
       "    <tr>\n",
       "      <th>r</th>\n",
       "      <td>1659.220666</td>\n",
       "      <td>0.111461</td>\n",
       "    </tr>\n",
       "    <tr>\n",
       "      <th>i</th>\n",
       "      <td>6208.254359</td>\n",
       "      <td>0.119919</td>\n",
       "    </tr>\n",
       "    <tr>\n",
       "      <th>z</th>\n",
       "      <td>9269.757834</td>\n",
       "      <td>0.143494</td>\n",
       "    </tr>\n",
       "    <tr>\n",
       "      <th>specobjid</th>\n",
       "      <td>3402.116179</td>\n",
       "      <td>0.193700</td>\n",
       "    </tr>\n",
       "    <tr>\n",
       "      <th>redshift</th>\n",
       "      <td>28655.952271</td>\n",
       "      <td>0.270325</td>\n",
       "    </tr>\n",
       "    <tr>\n",
       "      <th>plate</th>\n",
       "      <td>3402.130505</td>\n",
       "      <td>0.294091</td>\n",
       "    </tr>\n",
       "    <tr>\n",
       "      <th>mjd</th>\n",
       "      <td>3109.637519</td>\n",
       "      <td>0.801286</td>\n",
       "    </tr>\n",
       "  </tbody>\n",
       "</table>\n",
       "</div>"
      ],
      "text/plain": [
       "            f_regretion  mutual_info_regretion\n",
       "ra             0.085929               0.039620\n",
       "dec          218.452539               0.045158\n",
       "u           3823.399010               0.075053\n",
       "g            305.125852               0.100450\n",
       "r           1659.220666               0.111461\n",
       "i           6208.254359               0.119919\n",
       "z           9269.757834               0.143494\n",
       "specobjid   3402.116179               0.193700\n",
       "redshift   28655.952271               0.270325\n",
       "plate       3402.130505               0.294091\n",
       "mjd         3109.637519               0.801286"
      ]
     },
     "execution_count": 16,
     "metadata": {},
     "output_type": "execute_result"
    }
   ],
   "source": [
    "dfScores = pd.DataFrame()\n",
    "dfScores['ra'] = [scores[0], mi[0]]\n",
    "dfScores['dec'] = [scores[1], mi[1]]\n",
    "dfScores['u'] = [scores[2], mi[2]]\n",
    "dfScores['g'] = [scores[3], mi[3]]\n",
    "dfScores['r'] = [scores[4], mi[4]]\n",
    "dfScores['i'] = [scores[5], mi[5]]\n",
    "dfScores['z'] = [scores[6], mi[6]]\n",
    "dfScores['specobjid'] = [scores[7], mi[7]]\n",
    "dfScores['redshift'] = [scores[8], mi[8]]\n",
    "dfScores['plate'] = [scores[9], mi[9]]\n",
    "dfScores['mjd'] = [scores[10], mi[10]]\n",
    "dfScores.index = ['f_regretion', 'mutual_info_regretion'] # type: ignore\n",
    "dfScores.T"
   ]
  },
  {
   "cell_type": "code",
   "execution_count": 17,
   "metadata": {},
   "outputs": [
    {
     "name": "stdout",
     "output_type": "stream",
     "text": [
      "Feature selezionate:\n",
      "Index(['dec', 'u', 'g', 'r', 'i', 'z', 'specobjid', 'redshift', 'plate',\n",
      "       'mjd'],\n",
      "      dtype='object')\n"
     ]
    }
   ],
   "source": [
    "from sklearn.feature_selection import SelectKBest, f_regression\n",
    "\n",
    "# Crea un oggetto SelectKBest con il valore di k desiderato (ad esempio 10)\n",
    "selector = SelectKBest(score_func=f_regression, k=10)\n",
    "\n",
    "# Adatta il selector al dataset e seleziona le feature\n",
    "X_selected = selector.fit_transform(X_train, y_train)\n",
    "\n",
    "# Stampa le feature selezionate\n",
    "print(\"Feature selezionate:\")\n",
    "print(X_train.columns[selector.get_support()]) # type: ignore"
   ]
  },
  {
   "cell_type": "markdown",
   "metadata": {},
   "source": [
    "<h3>Delete Features</h3>\n",
    "Now we need to drop the useless features"
   ]
  },
  {
   "cell_type": "code",
   "execution_count": 18,
   "metadata": {},
   "outputs": [
    {
     "data": {
      "text/plain": [
       "Index(['ra', 'dec', 'u', 'g', 'r', 'i', 'z', 'specobjid', 'redshift', 'plate',\n",
       "       'mjd'],\n",
       "      dtype='object')"
      ]
     },
     "execution_count": 18,
     "metadata": {},
     "output_type": "execute_result"
    }
   ],
   "source": [
    "X_train.keys() # type: ignore"
   ]
  },
  {
   "cell_type": "markdown",
   "metadata": {},
   "source": [
    "Delete all the feautre with score < 0.1"
   ]
  },
  {
   "cell_type": "code",
   "execution_count": 19,
   "metadata": {},
   "outputs": [],
   "source": [
    "X_train.drop(['ra', 'dec', 'u'], axis = 1, inplace=True) # type: ignore"
   ]
  },
  {
   "attachments": {},
   "cell_type": "markdown",
   "metadata": {},
   "source": [
    "<h1>Rebalance Dataset</h1>\n",
    "I decide to use the method resample() for rebalance my DataSet.<br>\n",
    "I add features into the two minority classes (STAR, QSO) until they reach the class with the higer number of examble (GALAXY). <br>\n",
    "In the following snip of code I implement an over sampling using SMOTE."
   ]
  },
  {
   "cell_type": "code",
   "execution_count": 20,
   "metadata": {},
   "outputs": [
    {
     "name": "stdout",
     "output_type": "stream",
     "text": [
      "(124908, 8)\n"
     ]
    },
    {
     "data": {
      "text/plain": [
       "0    41636\n",
       "1    41636\n",
       "2    41636\n",
       "Name: class, dtype: int64"
      ]
     },
     "execution_count": 20,
     "metadata": {},
     "output_type": "execute_result"
    }
   ],
   "source": [
    "from imblearn.over_sampling import SMOTE\n",
    "\n",
    "# using oversampling with SMOTE to deal with imbalanced data\n",
    "sm = SMOTE(random_state=42)\n",
    "X_train_after_balancing, y_train_after_balancing = sm.fit_resample(X_train, y_train) # type: ignore\n",
    "\n",
    "print(X_train_after_balancing.shape) # type: ignore\n",
    "y_train_after_balancing.value_counts() # type: ignore"
   ]
  },
  {
   "cell_type": "code",
   "execution_count": 21,
   "metadata": {},
   "outputs": [],
   "source": [
    "# from sklearn.utils import resample\n",
    "# \n",
    "# # I need to use a Dataframe with the labeled-class\n",
    "# df_balanced = X_train\n",
    "# df_balanced['class'] = y_train # type: ignore\n",
    "# \n",
    "# # Split the dataset in 3 part, one for each class\n",
    "# df_class_0 = df_balanced[df_balanced[\"class\"] == 0] # type: ignore\n",
    "# df_class_1 = df_balanced[df_balanced[\"class\"] == 1] # type: ignore\n",
    "# df_class_2 = df_balanced[df_balanced[\"class\"] == 2] # type: ignore\n",
    "# \n",
    "# # Find the majority class\n",
    "# min_class = df_balanced[\"class\"].value_counts().idxmin() # type: ignore\n",
    "# \n",
    "# # We oversample the least numerous classes\n",
    "# df_class_1_over = resample(df_class_1,\n",
    "#                             replace=True, # Sample with replacement\n",
    "#                             n_samples=len(df_class_0), # Match number in majority class\n",
    "#                             random_state=42) # reproducible results\n",
    "# df_class_2_over = resample(df_class_2,\n",
    "#                             replace=True, # Sample with replacement\n",
    "#                             n_samples=len(df_class_0), # Match number in majority class\n",
    "#                             random_state=42) # reproducible results\n",
    "# \n",
    "# # Join the tre dataframe\n",
    "# df_balanced = pd.concat([df_class_0, df_class_1_over, df_class_2_over]) # type: ignore\n",
    "# \n",
    "# # Mix the data\n",
    "# df_balanced = df_balanced.sample(frac=1, random_state=42)\n",
    "#\n",
    "# df_balanced['class'].value_counts() # type: ignore\n",
    "# print(df_balanced.shape) # type: ignore\n",
    "# We need to split again the labeled-class from the other attribute inside the  ***df_balanced***\n",
    "# X_train_after_balancing = df_balanced.drop('class', axis=1) # type: ignore\n",
    "# y_train_after_balancing = df_balanced['class'] # type: ignore"
   ]
  },
  {
   "cell_type": "markdown",
   "metadata": {},
   "source": [
    "<h1 style=\"font-weight: bold\">CLASSIFICATION</h1>"
   ]
  },
  {
   "attachments": {},
   "cell_type": "markdown",
   "metadata": {},
   "source": [
    "<h2>KNeighborsClassifier</h2>\n",
    "I tried to perform KNN with different k, for understand which is the best. <br>\n",
    "I decided to use the euclidean and the manhattan distance, for make a comparison"
   ]
  },
  {
   "cell_type": "code",
   "execution_count": 22,
   "metadata": {},
   "outputs": [],
   "source": [
    "from sklearn.metrics import accuracy_score\n",
    "from sklearn.neighbors import KNeighborsClassifier\n",
    "from sklearn.model_selection import cross_val_score\n",
    "import numpy as np\n",
    "\n",
    "X_test_drop = X_test.drop(['ra', 'dec', 'u', 'objid','run','rerun','camcol','field','fiberid'], axis = 1) # type: ignore\n",
    "\n",
    "k_neighbors = 100\n",
    "metrics = ['euclidean', 'manhattan']\n",
    "\n",
    "accuracy_total = []\n",
    "for k in range(1, k_neighbors+1, 1):\n",
    "    accuracy_k = []\n",
    "    for metric in metrics:\n",
    "        knn = KNeighborsClassifier(n_neighbors=k, metric=metric)\n",
    "        knn.fit(X_train_after_balancing, y_train_after_balancing)\n",
    "        y_predKNN = knn.predict(X_test_drop)\n",
    "        accuracy = accuracy_score(y_test, y_predKNN)\n",
    "        accuracy_k.append(accuracy)\n",
    "        # print(f\"For metric = {metric} and k = {k}:      ACCURACY = {accuracy}\")\n",
    "    accuracy_total.append(accuracy_k)\n",
    "\n",
    "accuracy_df = pd.DataFrame(np.array(accuracy_total), columns=metrics)\n",
    "k_df = pd.DataFrame([1,2,3,4,5,6,7,8,9,10,11,12,13,14,15,16,17,18,19,20,21,22,23,24,25,26,27,28,29,30,31,32,33,34,35,36,37,38,39,40,41,42,43,44,45,46,47,48,49,50,51,52,53,54,55,56,57,58,59,60,61,62,63,64,65,66,67,68,69,70,71,72,73,74,75,76,77,78,79,80,81,82,83,84,85,86,87,88,89,90,91,92,93,94,95,96,97,98,99,100], columns=['k'])\n",
    "accuracy_join= k_df.join(accuracy_df)"
   ]
  },
  {
   "attachments": {},
   "cell_type": "markdown",
   "metadata": {},
   "source": [
    "The following snip of code shows us the trend of the KNN's accuracy for the euclidean and manhattan distance.<br> \n",
    "The graph for each distance it's almost the same. But the accurasy reach just the 67% in the peak, for k = 3."
   ]
  },
  {
   "cell_type": "code",
   "execution_count": 23,
   "metadata": {},
   "outputs": [
    {
     "data": {
      "image/png": "[encoded data removed]",
      "text/plain": [
       "<Figure size 640x480 with 1 Axes>"
      ]
     },
     "metadata": {},
     "output_type": "display_data"
    }
   ],
   "source": [
    "plt.plot(accuracy_join['k'], accuracy_join['euclidean'], label='euclidean')\n",
    "plt.plot(accuracy_join['k'], accuracy_join['manhattan'], label='manhattan')\n",
    "\n",
    "plt.legend()\n",
    "plt.xlabel('k')\n",
    "plt.ylabel('accuracy score')\n",
    "plt.show()"
   ]
  },
  {
   "cell_type": "code",
   "execution_count": 24,
   "metadata": {},
   "outputs": [
    {
     "name": "stdout",
     "output_type": "stream",
     "text": [
      "Euclidean Distance: The value of k with the higher accuracy is 3. Accurasy = 0.6721\n",
      "Manhattan Distance: The value of k with the higher accuracy is: 3. Accurasy = 0.6721333333333334\n"
     ]
    }
   ],
   "source": [
    "accuracy_ed = []\n",
    "accuracy_md = []\n",
    "\n",
    "for i in range(200):\n",
    "    accuracy_ed.append(accuracy_total[i][0])\n",
    "    accuracy_md.append(accuracy_total[i][1])\n",
    "\n",
    "max_index = max(enumerate(accuracy_ed), key=lambda x: x[1])[0]\n",
    "print(f\"Euclidean Distance: The value of k with the higher accuracy is {max_index}. Accurasy = {accuracy_ed[max_index]}\")\n",
    "\n",
    "max_index = max(enumerate(accuracy_md), key=lambda x: x[1])[0]\n",
    "print(f\"Manhattan Distance: The value of k with the higher accuracy is: {max_index}. Accurasy = {accuracy_md[max_index]}\")\n",
    "\n",
    "accuracyKNN = accuracy_md[max_index]"
   ]
  },
  {
   "attachments": {},
   "cell_type": "markdown",
   "metadata": {},
   "source": [
    "<h2>Decision Tree</h2>"
   ]
  },
  {
   "cell_type": "code",
   "execution_count": 25,
   "metadata": {},
   "outputs": [
    {
     "name": "stdout",
     "output_type": "stream",
     "text": [
      "Accuracy: 0.96\n",
      "Performances: [0.96705628 0.96941798 0.97454167 0.97386013 0.97345983]\n",
      "Average performance: 0.97\n"
     ]
    }
   ],
   "source": [
    "\n",
    "from sklearn.tree import DecisionTreeClassifier\n",
    "from sklearn.model_selection import cross_val_score\n",
    "from sklearn.metrics import accuracy_score\n",
    "\n",
    "X_test_drop = X_test.drop(['ra', 'dec', 'u', 'objid','run','rerun','camcol','field','fiberid'], axis = 1) # type: ignore\n",
    "\n",
    "# Create the model\n",
    "clf = DecisionTreeClassifier()\n",
    "\n",
    "# Fit the model\n",
    "clf = clf.fit(X_train_after_balancing, y_train_after_balancing)\n",
    "y_predDT = clf.predict(X_test_drop)\n",
    "\n",
    "# Check the accuracy\n",
    "accuracyDT = accuracy_score(y_test, y_predDT)\n",
    "print(f\"Accuracy: {accuracyDT:.2f}\")\n",
    "\n",
    "# Check the performance\n",
    "scores = cross_val_score(clf, X_train_after_balancing, y_train_after_balancing, cv=5)\n",
    "print(f\"Performances: {scores}\")\n",
    "print(f\"Average performance: {scores.mean():.2f}\")\n",
    "\n"
   ]
  },
  {
   "attachments": {},
   "cell_type": "markdown",
   "metadata": {},
   "source": [
    "<h1>Random Forest</h1>"
   ]
  },
  {
   "cell_type": "code",
   "execution_count": 26,
   "metadata": {},
   "outputs": [
    {
     "name": "stdout",
     "output_type": "stream",
     "text": [
      "Accuracy: 0.98\n"
     ]
    }
   ],
   "source": [
    "from sklearn.ensemble import RandomForestClassifier\n",
    "\n",
    "X_test_drop = X_test.drop(['ra', 'dec', 'u', 'objid','run','rerun','camcol','field','fiberid'], axis = 1) # type: ignore\n",
    "\n",
    "# Create the model\n",
    "clf = RandomForestClassifier()\n",
    "\n",
    "# Fit the model\n",
    "clf.fit(X_train_after_balancing, y_train_after_balancing)\n",
    "\n",
    "# Check the accuracy\n",
    "y_predRF = clf.predict(X_test_drop)\n",
    "accuracyRF = accuracy_score(y_test, y_predRF)\n",
    "print(f\"Accuracy: {accuracyRF:.2f}\")"
   ]
  },
  {
   "cell_type": "code",
   "execution_count": 27,
   "metadata": {},
   "outputs": [
    {
     "name": "stdout",
     "output_type": "stream",
     "text": [
      "Cross-validation scores: [0.97582259 0.97646305 0.97830438 0.98366824 0.9869506  0.98382836\n",
      " 0.98486911 0.98615003 0.98566853 0.98502802]\n",
      "Mean score: 0.9826752917825413\n"
     ]
    },
    {
     "data": {
      "image/png": "[encoded data removed]",
      "text/plain": [
       "<Figure size 640x480 with 1 Axes>"
      ]
     },
     "metadata": {},
     "output_type": "display_data"
    }
   ],
   "source": [
    "from sklearn.model_selection import cross_val_score, learning_curve\n",
    "import matplotlib.pyplot as plt\n",
    "\n",
    "# Utilizza la cross-validation per valutare l'accuratezza del modello\n",
    "scores = cross_val_score(clf, X_train_after_balancing, y_train_after_balancing, cv=10)\n",
    "\n",
    "# Stampa i risultati della cross-validation\n",
    "print(\"Cross-validation scores:\", scores)\n",
    "print(\"Mean score:\", scores.mean())\n",
    "\n",
    "# Disegna la curva di apprendimento del modello\n",
    "train_sizes, train_scores, test_scores = learning_curve(clf, X_train_after_balancing, y_train_after_balancing, cv=10)\n",
    "\n",
    "plt.plot(train_sizes, train_scores.mean(axis=1), 'o-', color='r', label=\"Training score\")\n",
    "plt.plot(train_sizes, test_scores.mean(axis=1), 'o-', color='g', label=\"Cross-validation score\")\n",
    "\n",
    "plt.title(\"Learning Curves (Random Forest)\")\n",
    "plt.xlabel(\"Training examples\")\n",
    "plt.ylabel(\"Score\")\n",
    "plt.legend(loc=\"best\")\n",
    "plt.show()"
   ]
  },
  {
   "attachments": {},
   "cell_type": "markdown",
   "metadata": {},
   "source": [
    "<h2>Bayesian Classifier</h2>"
   ]
  },
  {
   "cell_type": "code",
   "execution_count": 28,
   "metadata": {},
   "outputs": [
    {
     "name": "stdout",
     "output_type": "stream",
     "text": [
      "Accuracy: 0.30\n"
     ]
    }
   ],
   "source": [
    "from sklearn.naive_bayes import GaussianNB\n",
    "from scipy.stats import pearsonr\n",
    "\n",
    "X_test_drop = X_test.drop(['ra', 'dec', 'u', 'objid','run','rerun','camcol','field','fiberid'], axis = 1) # type: ignore\n",
    "\n",
    "# Create the model\n",
    "gnb = GaussianNB()\n",
    "\n",
    "# Fit the model\n",
    "gnb.fit(X_train_after_balancing, y_train_after_balancing)\n",
    "\n",
    "# Check the accuracy\n",
    "y_predBC = gnb.predict(X_test_drop)\n",
    "accuracyBC = accuracy_score(y_test, y_predBC)\n",
    "print(f\"Accuracy: {accuracyBC:.2f}\")"
   ]
  },
  {
   "attachments": {},
   "cell_type": "markdown",
   "metadata": {},
   "source": [
    "<h3>ACCURACY</h3>\n",
    "Now we will analize the accuracy of all the tried classifier.<br>\n",
    "We can note that the best algorithm is Random Forest\n"
   ]
  },
  {
   "cell_type": "code",
   "execution_count": 29,
   "metadata": {},
   "outputs": [
    {
     "name": "stdout",
     "output_type": "stream",
     "text": [
      "Accuracy of Random Forest: 0.98\n",
      "Accuracy of Decision Tree: 0.96\n",
      "Accuracy of KNN: 0.67\n",
      "Accuracy of Bayesian Classifier: 0.30\n"
     ]
    }
   ],
   "source": [
    "print(f\"Accuracy of Random Forest: {accuracyRF:.2f}\")\n",
    "print(f\"Accuracy of Decision Tree: {accuracyDT:.2f}\")\n",
    "print(f\"Accuracy of KNN: {accuracyKNN:.2f}\")\n",
    "print(f\"Accuracy of Bayesian Classifier: {accuracyBC:.2f}\")"
   ]
  },
  {
   "attachments": {},
   "cell_type": "markdown",
   "metadata": {},
   "source": [
    "<h1 style=\"font-weight: bold\">Save The Model<h1>"
   ]
  },
  {
   "attachments": {},
   "cell_type": "markdown",
   "metadata": {},
   "source": [
    "<p style=\"size: 12pt\">I'll save the model of Random Forest in a file, for using them in an external application</p>"
   ]
  },
  {
   "cell_type": "code",
   "execution_count": 30,
   "metadata": {},
   "outputs": [],
   "source": [
    "import pickle\n",
    "\n",
    "with open('starClassificatinApp/model.pkl', 'wb') as f:\n",
    "    pickle.dump(clf, f)"
   ]
  },
  {
   "cell_type": "code",
   "execution_count": 31,
   "metadata": {},
   "outputs": [
    {
     "data": {
      "text/plain": [
       "Index(['g', 'r', 'i', 'z', 'specobjid', 'redshift', 'plate', 'mjd'], dtype='object')"
      ]
     },
     "execution_count": 31,
     "metadata": {},
     "output_type": "execute_result"
    }
   ],
   "source": [
    "X_train_after_balancing.keys()"
   ]
  },
  {
   "attachments": {},
   "cell_type": "markdown",
   "metadata": {},
   "source": [
    "<h1>Evaluation of the model</h1>"
   ]
  },
  {
   "cell_type": "code",
   "execution_count": null,
   "metadata": {},
   "outputs": [],
   "source": [
    "from sklearn.metrics import confusion_matrix\n",
    "\n",
    "# Calcola la confusion matrix\n",
    "confusion_matrix = confusion_matrix(y_test, y_predDT)\n",
    "print(confusion_matrix)"
   ]
  }
 ],
 "metadata": {
  "kernelspec": {
   "display_name": "DMML",
   "language": "python",
   "name": "python3"
  },
  "language_info": {
   "codemirror_mode": {
    "name": "ipython",
    "version": 3
   },
   "file_extension": ".py",
   "mimetype": "text/x-python",
   "name": "python",
   "nbconvert_exporter": "python",
   "pygments_lexer": "ipython3",
   "version": "3.10.4"
  },
  "vscode": {
   "interpreter": {
    "hash": "108577842efddff3bd4824ec9bdd12effc6dfe96f030cd77b02bee11f8da132d"
   }
  }
 },
 "nbformat": 4,
 "nbformat_minor": 2
}
