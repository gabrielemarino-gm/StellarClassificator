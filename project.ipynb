{
 "cells": [
  {
   "attachments": {},
   "cell_type": "markdown",
   "metadata": {},
   "source": [
    "<h1>Galaxies, Stars and Quasars classification</h1>\n",
    "The Dataset are made in this way:\n",
    "<ul>\n",
    "    <li>objid       = Object Identifier, the unique value that identifies the object in the image catalog used by the CAS</li>\n",
    "    <li>ra          = Right Ascension angle (at J2000 epoch)</li>\n",
    "    <li>dec         = Declination angle (at J2000 epoch)</li>\n",
    "    <li>u           = Ultraviolet filter in the photometric system</li>\n",
    "    <li>g           = Green filter in the photometric system</li>\n",
    "    <li>r           = Red filter in the photometric system</li>\n",
    "    <li>i           = Near Infrared filter in the photometric system</li>\n",
    "    <li>z           = Infrared filter in the photometric system</li>\n",
    "    <li>run         = Run Number used to identify the specific scan</li>\n",
    "    <li>rereun      = Rerun Number to specify how the image was processed</li>\n",
    "    <li>camcol      = Camera column to identify the scanline within the run</li>\n",
    "    <li>field       = Field number to identify each field</li>\n",
    "    <li>specobjid   = Unique ID used for optical spectroscopic objects (this means that 2 different observations with the same spec_obj_ID must share the output class)</li>\n",
    "    <li>redshift    = redshift value based on the increase in wavelength</li>\n",
    "    <li>plate       = plate ID, identifies each plate in SDSS</li>\n",
    "    <li>mjd         = Modified Julian Date, used to indicate when a given piece of SDSS data was taken</li>\n",
    "    <li>fiberid     = fiber ID that identifies the fiber that pointed the light at the focal plane in each observation</li>\n",
    "    <li>class       = object class (galaxy, star or quasar object)</li>\n",
    "</ul>"
   ]
  },
  {
   "cell_type": "code",
   "execution_count": 1,
   "metadata": {},
   "outputs": [],
   "source": [
    "import os\n",
    "import numpy as np\n",
    "import pandas as pd\n",
    "import seaborn as sns\n",
    "import matplotlib.pylab as plt\n",
    "from sklearn.model_selection import train_test_split\n",
    "from sklearn.feature_selection import mutual_info_regression, f_regression, SelectKBest\n",
    "from imblearn.over_sampling import SMOTE\n",
    "from sklearn.neighbors import KNeighborsClassifier\n",
    "from sklearn.tree import DecisionTreeClassifier\n",
    "from sklearn.ensemble import RandomForestClassifier\n",
    "from sklearn.naive_bayes import GaussianNB\n",
    "from scipy.stats import pearsonr\n",
    "from sklearn.model_selection import cross_val_score, learning_curve\n",
    "from sklearn.metrics import accuracy_score\n",
    "from sklearn.metrics import confusion_matrix\n",
    "import pickle\n",
    "from sklearn.model_selection import StratifiedKFold\n"
   ]
  },
  {
   "cell_type": "markdown",
   "metadata": {},
   "source": [
    "Let's start loading the dataset in a dataframe"
   ]
  },
  {
   "cell_type": "code",
   "execution_count": 2,
   "metadata": {},
   "outputs": [
    {
     "data": {
      "text/html": [
       "<div>\n",
       "<style scoped>\n",
       "    .dataframe tbody tr th:only-of-type {\n",
       "        vertical-align: middle;\n",
       "    }\n",
       "\n",
       "    .dataframe tbody tr th {\n",
       "        vertical-align: top;\n",
       "    }\n",
       "\n",
       "    .dataframe thead th {\n",
       "        text-align: right;\n",
       "    }\n",
       "</style>\n",
       "<table border=\"1\" class=\"dataframe\">\n",
       "  <thead>\n",
       "    <tr style=\"text-align: right;\">\n",
       "      <th></th>\n",
       "      <th>objid</th>\n",
       "      <th>ra</th>\n",
       "      <th>dec</th>\n",
       "      <th>u</th>\n",
       "      <th>g</th>\n",
       "      <th>r</th>\n",
       "      <th>i</th>\n",
       "      <th>z</th>\n",
       "      <th>run</th>\n",
       "      <th>rerun</th>\n",
       "      <th>camcol</th>\n",
       "      <th>field</th>\n",
       "      <th>specobjid</th>\n",
       "      <th>class</th>\n",
       "      <th>redshift</th>\n",
       "      <th>plate</th>\n",
       "      <th>mjd</th>\n",
       "      <th>fiberid</th>\n",
       "    </tr>\n",
       "  </thead>\n",
       "  <tbody>\n",
       "    <tr>\n",
       "      <th>0</th>\n",
       "      <td>1.237661e+18</td>\n",
       "      <td>135.689107</td>\n",
       "      <td>32.494632</td>\n",
       "      <td>23.87882</td>\n",
       "      <td>22.27530</td>\n",
       "      <td>20.39501</td>\n",
       "      <td>19.16573</td>\n",
       "      <td>18.79371</td>\n",
       "      <td>3606</td>\n",
       "      <td>301</td>\n",
       "      <td>2</td>\n",
       "      <td>79</td>\n",
       "      <td>6.543777e+18</td>\n",
       "      <td>GALAXY</td>\n",
       "      <td>0.634794</td>\n",
       "      <td>5812</td>\n",
       "      <td>56354</td>\n",
       "      <td>171</td>\n",
       "    </tr>\n",
       "    <tr>\n",
       "      <th>1</th>\n",
       "      <td>1.237665e+18</td>\n",
       "      <td>144.826101</td>\n",
       "      <td>31.274185</td>\n",
       "      <td>24.77759</td>\n",
       "      <td>22.83188</td>\n",
       "      <td>22.58444</td>\n",
       "      <td>21.16812</td>\n",
       "      <td>21.61427</td>\n",
       "      <td>4518</td>\n",
       "      <td>301</td>\n",
       "      <td>5</td>\n",
       "      <td>119</td>\n",
       "      <td>1.176014e+19</td>\n",
       "      <td>GALAXY</td>\n",
       "      <td>0.779136</td>\n",
       "      <td>10445</td>\n",
       "      <td>58158</td>\n",
       "      <td>427</td>\n",
       "    </tr>\n",
       "    <tr>\n",
       "      <th>2</th>\n",
       "      <td>1.237661e+18</td>\n",
       "      <td>142.188790</td>\n",
       "      <td>35.582444</td>\n",
       "      <td>25.26307</td>\n",
       "      <td>22.66389</td>\n",
       "      <td>20.60976</td>\n",
       "      <td>19.34857</td>\n",
       "      <td>18.94827</td>\n",
       "      <td>3606</td>\n",
       "      <td>301</td>\n",
       "      <td>2</td>\n",
       "      <td>120</td>\n",
       "      <td>5.152200e+18</td>\n",
       "      <td>GALAXY</td>\n",
       "      <td>0.644195</td>\n",
       "      <td>4576</td>\n",
       "      <td>55592</td>\n",
       "      <td>299</td>\n",
       "    </tr>\n",
       "    <tr>\n",
       "      <th>3</th>\n",
       "      <td>1.237663e+18</td>\n",
       "      <td>338.741038</td>\n",
       "      <td>-0.402828</td>\n",
       "      <td>22.13682</td>\n",
       "      <td>23.77656</td>\n",
       "      <td>21.61162</td>\n",
       "      <td>20.50454</td>\n",
       "      <td>19.25010</td>\n",
       "      <td>4192</td>\n",
       "      <td>301</td>\n",
       "      <td>3</td>\n",
       "      <td>214</td>\n",
       "      <td>1.030107e+19</td>\n",
       "      <td>GALAXY</td>\n",
       "      <td>0.932346</td>\n",
       "      <td>9149</td>\n",
       "      <td>58039</td>\n",
       "      <td>775</td>\n",
       "    </tr>\n",
       "    <tr>\n",
       "      <th>4</th>\n",
       "      <td>1.237680e+18</td>\n",
       "      <td>345.282593</td>\n",
       "      <td>21.183866</td>\n",
       "      <td>19.43718</td>\n",
       "      <td>17.58028</td>\n",
       "      <td>16.49747</td>\n",
       "      <td>15.97711</td>\n",
       "      <td>15.54461</td>\n",
       "      <td>8102</td>\n",
       "      <td>301</td>\n",
       "      <td>3</td>\n",
       "      <td>137</td>\n",
       "      <td>6.891865e+18</td>\n",
       "      <td>GALAXY</td>\n",
       "      <td>0.116123</td>\n",
       "      <td>6121</td>\n",
       "      <td>56187</td>\n",
       "      <td>842</td>\n",
       "    </tr>\n",
       "    <tr>\n",
       "      <th>...</th>\n",
       "      <td>...</td>\n",
       "      <td>...</td>\n",
       "      <td>...</td>\n",
       "      <td>...</td>\n",
       "      <td>...</td>\n",
       "      <td>...</td>\n",
       "      <td>...</td>\n",
       "      <td>...</td>\n",
       "      <td>...</td>\n",
       "      <td>...</td>\n",
       "      <td>...</td>\n",
       "      <td>...</td>\n",
       "      <td>...</td>\n",
       "      <td>...</td>\n",
       "      <td>...</td>\n",
       "      <td>...</td>\n",
       "      <td>...</td>\n",
       "      <td>...</td>\n",
       "    </tr>\n",
       "    <tr>\n",
       "      <th>99995</th>\n",
       "      <td>1.237679e+18</td>\n",
       "      <td>39.620709</td>\n",
       "      <td>-2.594074</td>\n",
       "      <td>22.16759</td>\n",
       "      <td>22.97586</td>\n",
       "      <td>21.90404</td>\n",
       "      <td>21.30548</td>\n",
       "      <td>20.73569</td>\n",
       "      <td>7778</td>\n",
       "      <td>301</td>\n",
       "      <td>2</td>\n",
       "      <td>581</td>\n",
       "      <td>1.055431e+19</td>\n",
       "      <td>GALAXY</td>\n",
       "      <td>0.000000</td>\n",
       "      <td>9374</td>\n",
       "      <td>57749</td>\n",
       "      <td>438</td>\n",
       "    </tr>\n",
       "    <tr>\n",
       "      <th>99996</th>\n",
       "      <td>1.237679e+18</td>\n",
       "      <td>29.493819</td>\n",
       "      <td>19.798874</td>\n",
       "      <td>22.69118</td>\n",
       "      <td>22.38628</td>\n",
       "      <td>20.45003</td>\n",
       "      <td>19.75759</td>\n",
       "      <td>19.41526</td>\n",
       "      <td>7917</td>\n",
       "      <td>301</td>\n",
       "      <td>1</td>\n",
       "      <td>289</td>\n",
       "      <td>8.586351e+18</td>\n",
       "      <td>GALAXY</td>\n",
       "      <td>0.404895</td>\n",
       "      <td>7626</td>\n",
       "      <td>56934</td>\n",
       "      <td>866</td>\n",
       "    </tr>\n",
       "    <tr>\n",
       "      <th>99997</th>\n",
       "      <td>1.237668e+18</td>\n",
       "      <td>224.587407</td>\n",
       "      <td>15.700707</td>\n",
       "      <td>21.16916</td>\n",
       "      <td>19.26997</td>\n",
       "      <td>18.20428</td>\n",
       "      <td>17.69034</td>\n",
       "      <td>17.35221</td>\n",
       "      <td>5314</td>\n",
       "      <td>301</td>\n",
       "      <td>4</td>\n",
       "      <td>308</td>\n",
       "      <td>3.112008e+18</td>\n",
       "      <td>GALAXY</td>\n",
       "      <td>0.143366</td>\n",
       "      <td>2764</td>\n",
       "      <td>54535</td>\n",
       "      <td>74</td>\n",
       "    </tr>\n",
       "    <tr>\n",
       "      <th>99998</th>\n",
       "      <td>1.237661e+18</td>\n",
       "      <td>212.268621</td>\n",
       "      <td>46.660365</td>\n",
       "      <td>25.35039</td>\n",
       "      <td>21.63757</td>\n",
       "      <td>19.91386</td>\n",
       "      <td>19.07254</td>\n",
       "      <td>18.62482</td>\n",
       "      <td>3650</td>\n",
       "      <td>301</td>\n",
       "      <td>4</td>\n",
       "      <td>131</td>\n",
       "      <td>7.601080e+18</td>\n",
       "      <td>GALAXY</td>\n",
       "      <td>0.455040</td>\n",
       "      <td>6751</td>\n",
       "      <td>56368</td>\n",
       "      <td>470</td>\n",
       "    </tr>\n",
       "    <tr>\n",
       "      <th>99999</th>\n",
       "      <td>1.237661e+18</td>\n",
       "      <td>196.896053</td>\n",
       "      <td>49.464643</td>\n",
       "      <td>22.62171</td>\n",
       "      <td>21.79745</td>\n",
       "      <td>20.60115</td>\n",
       "      <td>20.00959</td>\n",
       "      <td>19.28075</td>\n",
       "      <td>3650</td>\n",
       "      <td>301</td>\n",
       "      <td>4</td>\n",
       "      <td>60</td>\n",
       "      <td>8.343152e+18</td>\n",
       "      <td>GALAXY</td>\n",
       "      <td>0.542944</td>\n",
       "      <td>7410</td>\n",
       "      <td>57104</td>\n",
       "      <td>851</td>\n",
       "    </tr>\n",
       "  </tbody>\n",
       "</table>\n",
       "<p>100000 rows × 18 columns</p>\n",
       "</div>"
      ],
      "text/plain": [
       "              objid          ra        dec         u         g         r  \\\n",
       "0      1.237661e+18  135.689107  32.494632  23.87882  22.27530  20.39501   \n",
       "1      1.237665e+18  144.826101  31.274185  24.77759  22.83188  22.58444   \n",
       "2      1.237661e+18  142.188790  35.582444  25.26307  22.66389  20.60976   \n",
       "3      1.237663e+18  338.741038  -0.402828  22.13682  23.77656  21.61162   \n",
       "4      1.237680e+18  345.282593  21.183866  19.43718  17.58028  16.49747   \n",
       "...             ...         ...        ...       ...       ...       ...   \n",
       "99995  1.237679e+18   39.620709  -2.594074  22.16759  22.97586  21.90404   \n",
       "99996  1.237679e+18   29.493819  19.798874  22.69118  22.38628  20.45003   \n",
       "99997  1.237668e+18  224.587407  15.700707  21.16916  19.26997  18.20428   \n",
       "99998  1.237661e+18  212.268621  46.660365  25.35039  21.63757  19.91386   \n",
       "99999  1.237661e+18  196.896053  49.464643  22.62171  21.79745  20.60115   \n",
       "\n",
       "              i         z   run  rerun  camcol  field     specobjid   class  \\\n",
       "0      19.16573  18.79371  3606    301       2     79  6.543777e+18  GALAXY   \n",
       "1      21.16812  21.61427  4518    301       5    119  1.176014e+19  GALAXY   \n",
       "2      19.34857  18.94827  3606    301       2    120  5.152200e+18  GALAXY   \n",
       "3      20.50454  19.25010  4192    301       3    214  1.030107e+19  GALAXY   \n",
       "4      15.97711  15.54461  8102    301       3    137  6.891865e+18  GALAXY   \n",
       "...         ...       ...   ...    ...     ...    ...           ...     ...   \n",
       "99995  21.30548  20.73569  7778    301       2    581  1.055431e+19  GALAXY   \n",
       "99996  19.75759  19.41526  7917    301       1    289  8.586351e+18  GALAXY   \n",
       "99997  17.69034  17.35221  5314    301       4    308  3.112008e+18  GALAXY   \n",
       "99998  19.07254  18.62482  3650    301       4    131  7.601080e+18  GALAXY   \n",
       "99999  20.00959  19.28075  3650    301       4     60  8.343152e+18  GALAXY   \n",
       "\n",
       "       redshift  plate    mjd  fiberid  \n",
       "0      0.634794   5812  56354      171  \n",
       "1      0.779136  10445  58158      427  \n",
       "2      0.644195   4576  55592      299  \n",
       "3      0.932346   9149  58039      775  \n",
       "4      0.116123   6121  56187      842  \n",
       "...         ...    ...    ...      ...  \n",
       "99995  0.000000   9374  57749      438  \n",
       "99996  0.404895   7626  56934      866  \n",
       "99997  0.143366   2764  54535       74  \n",
       "99998  0.455040   6751  56368      470  \n",
       "99999  0.542944   7410  57104      851  \n",
       "\n",
       "[100000 rows x 18 columns]"
      ]
     },
     "execution_count": 2,
     "metadata": {},
     "output_type": "execute_result"
    }
   ],
   "source": [
    "# dfStars = pd.read_csv('Skyserver_12_15_2020 3 45 07 AM.csv', na_values=\"?\")\n",
    "dfStars = pd.read_csv('FileCSV/star_classification.csv', na_values=\"?\")\n",
    "dfStars"
   ]
  },
  {
   "cell_type": "code",
   "execution_count": null,
   "metadata": {},
   "outputs": [],
   "source": [
    "dfStars.head().T"
   ]
  },
  {
   "cell_type": "markdown",
   "metadata": {},
   "source": [
    "Here I check the distribution of the Labeled-Class"
   ]
  },
  {
   "cell_type": "code",
   "execution_count": null,
   "metadata": {},
   "outputs": [],
   "source": [
    "dfStars['class'].value_counts()"
   ]
  },
  {
   "cell_type": "code",
   "execution_count": null,
   "metadata": {},
   "outputs": [],
   "source": [
    "fig,axes = plt.subplots(1, 1, figsize=(5,5), sharey=True)\n",
    "sns.countplot(x='class',data = dfStars, ax = axes, order = dfStars['class'].value_counts().index)\n",
    "plt.show()"
   ]
  },
  {
   "cell_type": "markdown",
   "metadata": {},
   "source": [
    "Check same info about the feature of the DataSet"
   ]
  },
  {
   "cell_type": "code",
   "execution_count": null,
   "metadata": {},
   "outputs": [],
   "source": [
    "dfStars.drop('class', axis=1).describe()"
   ]
  },
  {
   "cell_type": "code",
   "execution_count": null,
   "metadata": {},
   "outputs": [],
   "source": [
    "dfStars.info()"
   ]
  },
  {
   "cell_type": "markdown",
   "metadata": {},
   "source": [
    "Check for Nan or Null value"
   ]
  },
  {
   "cell_type": "code",
   "execution_count": null,
   "metadata": {},
   "outputs": [],
   "source": [
    "dfStars.isna().sum(axis=0)"
   ]
  },
  {
   "cell_type": "markdown",
   "metadata": {},
   "source": [
    "Checking if there is some duplicate"
   ]
  },
  {
   "cell_type": "code",
   "execution_count": null,
   "metadata": {},
   "outputs": [],
   "source": [
    "dfStars[dfStars.duplicated(keep=False)]"
   ]
  },
  {
   "attachments": {},
   "cell_type": "markdown",
   "metadata": {},
   "source": [
    "<h1>Encoding of the classed-class</h1>"
   ]
  },
  {
   "cell_type": "code",
   "execution_count": 3,
   "metadata": {},
   "outputs": [],
   "source": [
    "# Normalize the classed-class with numerical data\n",
    "dfStars['class'] = dfStars['class'].replace({'GALAXY': 0, 'STAR': 1, 'QSO': 2})"
   ]
  },
  {
   "cell_type": "code",
   "execution_count": null,
   "metadata": {},
   "outputs": [],
   "source": [
    "f, ax = plt.subplots(figsize=(10, 8))\n",
    "sns.heatmap(dfStars.drop(['class'], axis = 1).corr(), annot=True, linewidths=.5, fmt='.2f', ax=ax, annot_kws={'fontsize': 8})\n",
    "plt.show()"
   ]
  },
  {
   "attachments": {},
   "cell_type": "markdown",
   "metadata": {},
   "source": [
    "<h3>Distribution of each useful attribute divided by class</h3>\n",
    "This distribution will be useful for make a comparison with the dataset after the rebalance part"
   ]
  },
  {
   "cell_type": "code",
   "execution_count": null,
   "metadata": {},
   "outputs": [],
   "source": [
    "dfStars['last'] = 0\n",
    "for att in dfStars.drop(['objid','ra','run','rerun','camcol','field','fiberid', 'class'], axis = 1).columns[:-1]:\n",
    "    dfStars.hist(column=att, by='class', bins=7, figsize=(15,4), layout = (1,3))\n",
    "    print(att)\n",
    "    plt.show()\n",
    "dfStars.drop(['last'], axis=1, inplace=True)\n"
   ]
  },
  {
   "cell_type": "code",
   "execution_count": null,
   "metadata": {},
   "outputs": [],
   "source": [
    "for att in dfStars.drop(['objid', 'ra', 'run','rerun','camcol','field','fiberid', 'class'], axis = 1).columns[:-1]:\n",
    "    sns.boxplot(x='class', y=att, data=dfStars)\n",
    "    plt.show()"
   ]
  },
  {
   "attachments": {},
   "cell_type": "markdown",
   "metadata": {},
   "source": [
    "Show the relationship between all pairs of variables into the dataset"
   ]
  },
  {
   "cell_type": "code",
   "execution_count": null,
   "metadata": {},
   "outputs": [],
   "source": [
    "sns.pairplot(data=dfStars, hue=\"class\")"
   ]
  },
  {
   "cell_type": "markdown",
   "metadata": {},
   "source": [
    "<h1>Split the dataset in training set and test set.</h1>"
   ]
  },
  {
   "cell_type": "code",
   "execution_count": 4,
   "metadata": {},
   "outputs": [
    {
     "name": "stdout",
     "output_type": "stream",
     "text": [
      "Shape of the train and test set\n",
      "(70000, 17)\n",
      "(30000, 17)\n",
      "\n",
      "Distribution of the labeled-classes\n",
      "\n",
      "Training Set\n",
      "0    41636\n",
      "1    15044\n",
      "2    13320\n",
      "Name: class, dtype: int64\n",
      "\n",
      "Test Set\n",
      "0    17809\n",
      "1     6550\n",
      "2     5641\n",
      "Name: class, dtype: int64\n"
     ]
    }
   ],
   "source": [
    "X = dfStars.drop('class', axis=1)\n",
    "y = dfStars['class']\n",
    "\n",
    "X_train, X_test, y_train, y_test = train_test_split(X, y, test_size=0.3, random_state=0)\n",
    "\n",
    "print('Shape of the train and test set')\n",
    "print(X_train.shape) # type: ignore\n",
    "print(X_test.shape) # type: ignore\n",
    "print()\n",
    "print('Distribution of the labeled-classes')  \n",
    "print()\n",
    "print(\"Training Set\")\n",
    "print(pd.Series(y_train).value_counts())\n",
    "print()\n",
    "print(\"Test Set\")\n",
    "print(pd.Series(y_test).value_counts())"
   ]
  },
  {
   "cell_type": "markdown",
   "metadata": {},
   "source": [
    "<h1>Feature Selection</h1>"
   ]
  },
  {
   "attachments": {},
   "cell_type": "markdown",
   "metadata": {},
   "source": [
    "In the following cell I perform SelectKBest wit f_regression with k=10, for select the best feature"
   ]
  },
  {
   "cell_type": "code",
   "execution_count": 5,
   "metadata": {},
   "outputs": [
    {
     "data": {
      "text/html": [
       "<div>\n",
       "<style scoped>\n",
       "    .dataframe tbody tr th:only-of-type {\n",
       "        vertical-align: middle;\n",
       "    }\n",
       "\n",
       "    .dataframe tbody tr th {\n",
       "        vertical-align: top;\n",
       "    }\n",
       "\n",
       "    .dataframe thead th {\n",
       "        text-align: right;\n",
       "    }\n",
       "</style>\n",
       "<table border=\"1\" class=\"dataframe\">\n",
       "  <thead>\n",
       "    <tr style=\"text-align: right;\">\n",
       "      <th></th>\n",
       "      <th>Score</th>\n",
       "    </tr>\n",
       "  </thead>\n",
       "  <tbody>\n",
       "    <tr>\n",
       "      <th>redshift</th>\n",
       "      <td>28655.952271</td>\n",
       "    </tr>\n",
       "    <tr>\n",
       "      <th>z</th>\n",
       "      <td>9269.757834</td>\n",
       "    </tr>\n",
       "    <tr>\n",
       "      <th>i</th>\n",
       "      <td>6208.254359</td>\n",
       "    </tr>\n",
       "    <tr>\n",
       "      <th>u</th>\n",
       "      <td>3823.399010</td>\n",
       "    </tr>\n",
       "    <tr>\n",
       "      <th>plate</th>\n",
       "      <td>3402.130505</td>\n",
       "    </tr>\n",
       "    <tr>\n",
       "      <th>specobjid</th>\n",
       "      <td>3402.116179</td>\n",
       "    </tr>\n",
       "    <tr>\n",
       "      <th>mjd</th>\n",
       "      <td>3109.637519</td>\n",
       "    </tr>\n",
       "    <tr>\n",
       "      <th>r</th>\n",
       "      <td>1659.220666</td>\n",
       "    </tr>\n",
       "    <tr>\n",
       "      <th>g</th>\n",
       "      <td>305.125852</td>\n",
       "    </tr>\n",
       "    <tr>\n",
       "      <th>dec</th>\n",
       "      <td>218.452539</td>\n",
       "    </tr>\n",
       "    <tr>\n",
       "      <th>field</th>\n",
       "      <td>100.505200</td>\n",
       "    </tr>\n",
       "    <tr>\n",
       "      <th>fiberid</th>\n",
       "      <td>77.342021</td>\n",
       "    </tr>\n",
       "    <tr>\n",
       "      <th>camcol</th>\n",
       "      <td>14.037506</td>\n",
       "    </tr>\n",
       "    <tr>\n",
       "      <th>objid</th>\n",
       "      <td>0.418921</td>\n",
       "    </tr>\n",
       "    <tr>\n",
       "      <th>run</th>\n",
       "      <td>0.418374</td>\n",
       "    </tr>\n",
       "    <tr>\n",
       "      <th>ra</th>\n",
       "      <td>0.085929</td>\n",
       "    </tr>\n",
       "    <tr>\n",
       "      <th>rerun</th>\n",
       "      <td>0.000000</td>\n",
       "    </tr>\n",
       "  </tbody>\n",
       "</table>\n",
       "</div>"
      ],
      "text/plain": [
       "                  Score\n",
       "redshift   28655.952271\n",
       "z           9269.757834\n",
       "i           6208.254359\n",
       "u           3823.399010\n",
       "plate       3402.130505\n",
       "specobjid   3402.116179\n",
       "mjd         3109.637519\n",
       "r           1659.220666\n",
       "g            305.125852\n",
       "dec          218.452539\n",
       "field        100.505200\n",
       "fiberid       77.342021\n",
       "camcol        14.037506\n",
       "objid          0.418921\n",
       "run            0.418374\n",
       "ra             0.085929\n",
       "rerun          0.000000"
      ]
     },
     "metadata": {},
     "output_type": "display_data"
    },
    {
     "name": "stdout",
     "output_type": "stream",
     "text": [
      "\n",
      "Features selected:\n",
      "Index(['dec', 'u', 'g', 'r', 'i', 'z', 'specobjid', 'redshift', 'plate',\n",
      "       'mjd'],\n",
      "      dtype='object')\n"
     ]
    }
   ],
   "source": [
    "# Create an object SelectKBest with the value of k\n",
    "selector = SelectKBest(score_func=f_regression, k=10)\n",
    "\n",
    "# Fit\n",
    "X_selected = selector.fit_transform(X_train, y_train)\n",
    "\n",
    "dfKBest = pd.DataFrame(selector.scores_, columns=['Score'])\n",
    "dfKBest.index = ['objid','ra','dec','u','g','r','i','z','run','rerun','camcol','field','specobjid','redshift','plate','mjd','fiberid'] # type: ignore\n",
    "display(dfKBest.sort_values(by='Score', ascending=False))\n",
    "print()\n",
    "print(\"Features selected:\")\n",
    "print(X_train.columns[selector.get_support()]) # type: ignore"
   ]
  },
  {
   "attachments": {},
   "cell_type": "markdown",
   "metadata": {},
   "source": [
    "<h3>Delete Features</h3>\n",
    "Drop all features rated lower than 10"
   ]
  },
  {
   "cell_type": "code",
   "execution_count": 6,
   "metadata": {},
   "outputs": [],
   "source": [
    "X_train.drop(['objid', 'ra', 'run','rerun','camcol','field','fiberid'], axis = 1, inplace=True) # type: ignore"
   ]
  },
  {
   "attachments": {},
   "cell_type": "markdown",
   "metadata": {},
   "source": [
    "<h1>Outlier Detection</h1>"
   ]
  },
  {
   "cell_type": "code",
   "execution_count": null,
   "metadata": {},
   "outputs": [],
   "source": [
    "from sklearn.model_selection import GridSearchCV\n",
    "from sklearn.neighbors import LocalOutlierFactor\n",
    "\n",
    "# definisci la lista di valori da provare per n_neighbors e contamination\n",
    "param_grid = {'n_neighbors': [1, 5, 10, 15, 20], 'contamination': [0.1, 0.2, 0.3, 0.01, 0.02, 0.05, 'auto']}\n",
    "\n",
    "# crea l'oggetto LocalOutlierFactor\n",
    "lof = LocalOutlierFactor(novelty=True)\n",
    "\n",
    "# crea l'oggetto GridSearchCV\n",
    "grid_search = GridSearchCV(lof, param_grid, cv=10, scoring='accuracy')\n",
    "\n",
    "# estrai le feature dal DataFrame\n",
    "X = X_train[['u', 'g', 'r', 'i', 'z', 'redshift', 'plate']] # type: ignore\n",
    "\n",
    "grid_search.fit(X, y_train)\n",
    "print(\"The best parameters for Galaxy are:\", grid_search.best_params_)"
   ]
  },
  {
   "cell_type": "code",
   "execution_count": null,
   "metadata": {},
   "outputs": [],
   "source": [
    "from sklearn.neighbors import LocalOutlierFactor\n",
    "from sklearn.model_selection import GridSearchCV\n",
    "\n",
    "print(X_train.shape)\n",
    "\n",
    "# crea l'oggetto LocalOutlierFactor\n",
    "lof = LocalOutlierFactor(n_neighbors=10, contamination=0.01)\n",
    "\n",
    "# Xp = X_train[['u', 'g', 'r', 'i', 'z', 'redshift', 'plate']]\n",
    "outliers = lof.fit_predict(X_train, y_train)\n",
    "\n",
    "X_filtered = X_train[outliers == 1]\n",
    "y_filtered = y_train[outliers == 1]\n",
    "print(X_filtered.shape)\n",
    "\n",
    "# X_train = X_filtered\n",
    "# y_train = y_filtered\n"
   ]
  },
  {
   "cell_type": "code",
   "execution_count": 8,
   "metadata": {},
   "outputs": [
    {
     "name": "stdout",
     "output_type": "stream",
     "text": [
      "(70000, 11)\n",
      "Galaxy: (41636, 11) ---> (41219, 11)\n",
      "Star: (15044, 11) ---> (14893, 11)\n",
      "QSO: (13320, 11) ---> (13186, 11)\n",
      "(69298, 11)\n"
     ]
    }
   ],
   "source": [
    "from sklearn.neighbors import LocalOutlierFactor\n",
    "from sklearn.model_selection import GridSearchCV\n",
    "\n",
    "df_merged = pd.concat([X_train, y_train], axis=1) # type: ignore\n",
    "print(df_merged.shape)\n",
    "\n",
    "# crea l'oggetto LocalOutlierFactor\n",
    "lof = LocalOutlierFactor(n_neighbors=10, contamination=0.01)\n",
    "\n",
    "# seleziona il DataFrame per la classe GALAXY \n",
    "# estrai le feature dal DataFrame \n",
    "# ottieni gli outlier con il metodo fit_predict\n",
    "df_galaxy = df_merged[df_merged['class'] == 0]\n",
    "XX = df_galaxy[['u', 'g', 'r', 'i', 'z', 'redshift', 'plate']]\n",
    "outliers_galaxy = lof.fit_predict(XX)\n",
    "\n",
    "df_star = df_merged[df_merged['class'] == 1]\n",
    "XX = df_star[['u', 'g', 'r', 'i', 'z', 'redshift', 'plate']]\n",
    "outliers_star = lof.fit_predict(XX)\n",
    "\n",
    "df_qso = df_merged[df_merged['class'] == 2]\n",
    "XX = df_qso[['u', 'g', 'r', 'i', 'z', 'redshift', 'plate']]\n",
    "outliers_qso = lof.fit_predict(XX)\n",
    "\n",
    "df_filtered_galaxy = df_galaxy[outliers_galaxy == 1]\n",
    "df_filtered_star = df_star[outliers_star == 1]\n",
    "df_filtered_qso = df_qso[outliers_qso == 1]\n",
    "\n",
    "print(f\"Galaxy: {df_galaxy.shape} ---> {df_filtered_galaxy.shape}\")\n",
    "print(f\"Star: {df_star.shape} ---> {df_filtered_star.shape}\")\n",
    "print(f\"QSO: {df_qso.shape} ---> {df_filtered_qso.shape}\")\n",
    "\n",
    "df_after_outlier = pd.concat([df_filtered_galaxy, df_filtered_star, df_filtered_qso])\n",
    "print(df_after_outlier.shape)"
   ]
  },
  {
   "cell_type": "code",
   "execution_count": 9,
   "metadata": {},
   "outputs": [],
   "source": [
    "X_train = df_after_outlier.drop('class', axis=1)\n",
    "y_train = df_after_outlier['class']"
   ]
  },
  {
   "cell_type": "code",
   "execution_count": null,
   "metadata": {},
   "outputs": [],
   "source": [
    "df_merged = pd.concat([X_filtered, y_filtered], axis=1) # type: ignore\n",
    "for att in df_merged.columns[:-1]:  # type: ignore\n",
    "    sns.boxplot(x='class', y=att, data=df_merged)\n",
    "    plt.show()"
   ]
  },
  {
   "attachments": {},
   "cell_type": "markdown",
   "metadata": {},
   "source": [
    "<h1>Rebalance Dataset</h1>\n",
    "I add features into the two minority classes (STAR, QSO) until they reach the class with the higer number of examble (GALAXY). <br>\n",
    "In the following snip of code I implement an over sampling without replacement, using SMOTE."
   ]
  },
  {
   "cell_type": "code",
   "execution_count": 10,
   "metadata": {},
   "outputs": [
    {
     "name": "stdout",
     "output_type": "stream",
     "text": [
      "(123657, 10)\n"
     ]
    },
    {
     "data": {
      "text/plain": [
       "0    41219\n",
       "1    41219\n",
       "2    41219\n",
       "Name: class, dtype: int64"
      ]
     },
     "execution_count": 10,
     "metadata": {},
     "output_type": "execute_result"
    }
   ],
   "source": [
    "# using oversampling with SMOTE to deal with imbalanced data\n",
    "sm = SMOTE(random_state=42)\n",
    "X_train_after_balancing, y_train_after_balancing = sm.fit_resample(X_train, y_train) # type: ignore\n",
    "\n",
    "print(X_train_after_balancing.shape) # type: ignore\n",
    "y_train_after_balancing.value_counts() # type: ignore"
   ]
  },
  {
   "attachments": {},
   "cell_type": "markdown",
   "metadata": {},
   "source": [
    "Now I analyse the distribution of each attribute, after the rebalancing of the datasets"
   ]
  },
  {
   "cell_type": "code",
   "execution_count": null,
   "metadata": {},
   "outputs": [],
   "source": [
    "df_merged = pd.concat([X_train_after_balancing, y_train_after_balancing], axis=1)\n",
    "for att in df_merged.columns[:-1]:  # type: ignore\n",
    "    df_merged.hist(column=att, by='class', bins = 7, figsize=(15,4),layout = (1,3), color='r')\n",
    "    print(att)\n",
    "    plt.show()"
   ]
  },
  {
   "cell_type": "code",
   "execution_count": null,
   "metadata": {},
   "outputs": [],
   "source": [
    "df_merged = pd.concat([X_train_after_balancing, y_train_after_balancing], axis=1)\n",
    "for att in df_merged.columns[:-1]:  # type: ignore\n",
    "    sns.boxplot(x='class', y=att, data=df_merged)\n",
    "    plt.show()"
   ]
  },
  {
   "cell_type": "markdown",
   "metadata": {},
   "source": [
    "<h1 style=\"font-weight: bold\">CLASSIFICATION</h1>"
   ]
  },
  {
   "cell_type": "code",
   "execution_count": 11,
   "metadata": {},
   "outputs": [
    {
     "data": {
      "text/plain": [
       "((123657, 10), (123657,))"
      ]
     },
     "execution_count": 11,
     "metadata": {},
     "output_type": "execute_result"
    }
   ],
   "source": [
    "# Split the dataset into features and classs\n",
    "X_train_class = X_train_after_balancing\n",
    "y_train_class = y_train_after_balancing\n",
    "X_train_class.shape, y_train_class.shape"
   ]
  },
  {
   "cell_type": "code",
   "execution_count": 13,
   "metadata": {},
   "outputs": [],
   "source": [
    "X_test_drop = X_test.drop(['objid', 'ra', 'run', 'rerun', 'camcol', 'field', 'fiberid'], axis = 1) # type: ignore"
   ]
  },
  {
   "attachments": {},
   "cell_type": "markdown",
   "metadata": {},
   "source": [
    "<h2>KNeighborsClassifier</h2>\n",
    "I tried to perform KNN with different k, for understand which is the best. <br>\n",
    "I decided to use the euclidean and the manhattan distance, for make a comparison"
   ]
  },
  {
   "cell_type": "code",
   "execution_count": null,
   "metadata": {},
   "outputs": [],
   "source": [
    "k_neighbors = 100\n",
    "metrics = ['euclidean', 'manhattan']\n",
    "\n",
    "accuracy_total = []\n",
    "for k in range(1, k_neighbors+1, 1):\n",
    "    accuracy_k = []\n",
    "    for metric in metrics:\n",
    "        knn = KNeighborsClassifier(n_neighbors=k, metric=metric)\n",
    "        knn.fit(X_train_class, y_train_class)\n",
    "        y_predKNN = knn.predict(X_test_drop)\n",
    "        accuracy = accuracy_score(y_test, y_predKNN)\n",
    "        accuracy_k.append(accuracy)\n",
    "        # print(f\"For metric = {metric} and k = {k}:      ACCURACY = {accuracy}\")\n",
    "    accuracy_total.append(accuracy_k)\n",
    "\n",
    "accuracy_df = pd.DataFrame(np.array(accuracy_total), columns=metrics)\n",
    "k_df = pd.DataFrame([1,2,3,4,5,6,7,8,9,10,11,12,13,14,15,16,17,18,19,20,21,22,23,24,25,26,27,28,29,30,31,32,33,34,35,36,37,38,39,40,41,42,43,44,45,46,47,48,49,50,51,52,53,54,55,56,57,58,59,60,61,62,63,64,65,66,67,68,69,70,71,72,73,74,75,76,77,78,79,80,81,82,83,84,85,86,87,88,89,90,91,92,93,94,95,96,97,98,99,100], columns=['k'])\n",
    "accuracy_join= k_df.join(accuracy_df)"
   ]
  },
  {
   "attachments": {},
   "cell_type": "markdown",
   "metadata": {},
   "source": [
    "The following snip of code shows us the trend of the KNN's accuracy for the euclidean and manhattan distance.<br> \n",
    "The graph for each distance it's almost the same. But the accurasy reach just the 67% in the peak, for k = 3."
   ]
  },
  {
   "cell_type": "code",
   "execution_count": null,
   "metadata": {},
   "outputs": [],
   "source": [
    "plt.plot(accuracy_join['k'], accuracy_join['euclidean'], label='euclidean')\n",
    "plt.plot(accuracy_join['k'], accuracy_join['manhattan'], label='manhattan')\n",
    "\n",
    "plt.legend()\n",
    "plt.xlabel('k')\n",
    "plt.ylabel('accuracy score')\n",
    "plt.show()"
   ]
  },
  {
   "cell_type": "code",
   "execution_count": null,
   "metadata": {},
   "outputs": [],
   "source": [
    "accuracy_ed = []\n",
    "accuracy_md = []\n",
    "\n",
    "for i in range(k_neighbors):\n",
    "    accuracy_ed.append(accuracy_total[i][0])\n",
    "    accuracy_md.append(accuracy_total[i][1])\n",
    "\n",
    "max_index = max(enumerate(accuracy_ed), key=lambda x: x[1])[0]\n",
    "print(f\"Euclidean Distance: The value of k with the higher accuracy is {max_index}. Accurasy = {accuracy_ed[max_index]}\")\n",
    "\n",
    "max_index = max(enumerate(accuracy_md), key=lambda x: x[1])[0]\n",
    "print(f\"Manhattan Distance: The value of k with the higher accuracy is: {max_index}. Accurasy = {accuracy_md[max_index]}\")\n",
    "\n",
    "accuracyKNN = accuracy_md[max_index]"
   ]
  },
  {
   "cell_type": "code",
   "execution_count": 15,
   "metadata": {},
   "outputs": [
    {
     "name": "stdout",
     "output_type": "stream",
     "text": [
      "Cross-validation scores: [0.7019 0.694  0.6857 0.693  0.6958 0.6948 0.6973 0.6922 0.6917 0.6965]\n",
      "Mean score: 0.69429\n"
     ]
    },
    {
     "data": {
      "image/png": "[encoded data removed]",
      "text/plain": [
       "<Figure size 640x480 with 1 Axes>"
      ]
     },
     "metadata": {},
     "output_type": "display_data"
    }
   ],
   "source": [
    "knn = KNeighborsClassifier(n_neighbors=3, metric='manhattan')\n",
    "knn.fit(X_train_class, y_train_class)\n",
    "y_predKNN = knn.predict(X_test_drop)\n",
    "\n",
    "# Utilizza la cross-validation per valutare l'accuratezza del modello\n",
    "skf = StratifiedKFold(10, shuffle = True, random_state = 21)\n",
    "scores = cross_val_score(knn, X, y, cv=skf)\n",
    "\n",
    "# Stampa i risultati della cross-validation\n",
    "print(f\"Cross-validation scores: {scores}\")\n",
    "print(f\"Mean score: { scores.mean()}\")\n",
    "\n",
    "# Disegna la curva di apprendimento del modello\n",
    "train_sizes, train_scores, test_scores = learning_curve(knn, X, y, cv=skf) # type: ignore\n",
    "\n",
    "plt.plot(train_sizes, train_scores.mean(axis=1), 'o-', color='r', label=\"Training score\")\n",
    "plt.plot(train_sizes, test_scores.mean(axis=1), 'o-', color='g', label=\"Cross-validation score\")\n",
    "\n",
    "plt.title(\"Learning Curves (KNN)\")\n",
    "plt.xlabel(\"Training examples\")\n",
    "plt.ylabel(\"Score\")\n",
    "plt.legend(loc=\"best\")\n",
    "plt.show()"
   ]
  },
  {
   "cell_type": "code",
   "execution_count": null,
   "metadata": {},
   "outputs": [],
   "source": [
    "from sklearn.model_selection import KFold\n",
    "from sklearn.neighbors import KNeighborsClassifier\n",
    "\n",
    "# Crea un oggetto KFold con 10 fold e una semina casuale\n",
    "kfold = KFold(n_splits=10, shuffle=True, random_state=0)\n",
    "\n",
    "scores = []\n",
    "\n",
    "# Esegui il loop sui fold\n",
    "for train_index, test_index in kfold.split(X):\n",
    "    # Seleziona il dataset di training e di test per il fold corrente\n",
    "    X_train, X_test = X[train_index], X[test_index]\n",
    "    y_train, y_test = y[train_index], y[test_index]\n",
    "\n",
    "    # Addestra il modello KNN sui dati di training\n",
    "    knn.fit(X_train, y_train)\n",
    "\n",
    "    # Valuta il modello KNN sui dati di test\n",
    "    score = knn.score(X_test, y_test)\n",
    "\n",
    "    # Aggiungi il punteggio alla lista\n",
    "    scores.append(score)\n",
    "\n",
    "# Calcola la media dei punteggi di validazione\n",
    "mean_score = np.mean(scores)\n",
    "print(\"La media dei punteggi di validazione è:\", mean_score)"
   ]
  },
  {
   "attachments": {},
   "cell_type": "markdown",
   "metadata": {},
   "source": [
    "<h2>Decision Tree</h2>"
   ]
  },
  {
   "cell_type": "code",
   "execution_count": 16,
   "metadata": {},
   "outputs": [
    {
     "name": "stdout",
     "output_type": "stream",
     "text": [
      "Accuracy: 0.96\n"
     ]
    }
   ],
   "source": [
    "# Create the model\n",
    "dtc = DecisionTreeClassifier()\n",
    "\n",
    "# Fit the model\n",
    "dtc = dtc.fit(X_train_class, y_train_class)\n",
    "y_predDT = dtc.predict(X_test_drop)\n",
    "\n",
    "# Check the accuracy\n",
    "accuracyDT = accuracy_score(y_test, y_predDT)\n",
    "print(f\"Accuracy: {accuracyDT:.2f}\")"
   ]
  },
  {
   "cell_type": "code",
   "execution_count": 17,
   "metadata": {},
   "outputs": [
    {
     "name": "stdout",
     "output_type": "stream",
     "text": [
      "Cross-validation scores: [0.967  0.9637 0.9645 0.9669 0.9651 0.9651 0.9639 0.9647 0.9641 0.962 ]\n",
      "Mean score: 0.9646999999999999\n"
     ]
    },
    {
     "data": {
      "image/png": "[encoded data removed]",
      "text/plain": [
       "<Figure size 640x480 with 1 Axes>"
      ]
     },
     "metadata": {},
     "output_type": "display_data"
    }
   ],
   "source": [
    "# Utilizza la cross-validation per valutare l'accuratezza del modello\n",
    "skf = StratifiedKFold(10, shuffle = True, random_state = 21)\n",
    "scores = cross_val_score(dtc, X, y, cv=skf)\n",
    "\n",
    "# Stampa i risultati della cross-validation\n",
    "print(f\"Cross-validation scores: {scores}\")\n",
    "print(f\"Mean score: { scores.mean()}\")\n",
    "\n",
    "# Disegna la curva di apprendimento del modello\n",
    "train_sizes, train_scores, test_scores = learning_curve(dtc, X, y, cv=skf) # type: ignore\n",
    "\n",
    "plt.plot(train_sizes, train_scores.mean(axis=1), 'o-', color='r', label=\"Training score\")\n",
    "plt.plot(train_sizes, test_scores.mean(axis=1), 'o-', color='g', label=\"Cross-validation score\")\n",
    "\n",
    "plt.title(\"Learning Curves (Decision Tree)\")\n",
    "plt.xlabel(\"Training examples\")\n",
    "plt.ylabel(\"Score\")\n",
    "plt.legend(loc=\"best\")\n",
    "plt.show()"
   ]
  },
  {
   "attachments": {},
   "cell_type": "markdown",
   "metadata": {},
   "source": [
    "<h1>Random Forest</h1>"
   ]
  },
  {
   "cell_type": "code",
   "execution_count": 18,
   "metadata": {},
   "outputs": [
    {
     "name": "stdout",
     "output_type": "stream",
     "text": [
      "Accuracy: 0.98\n"
     ]
    }
   ],
   "source": [
    "# Create the model\n",
    "rf = RandomForestClassifier(criterion=\"entropy\")\n",
    "\n",
    "# Fit the model\n",
    "rf.fit(X_train_class, y_train_class)\n",
    "\n",
    "# Check the accuracy\n",
    "y_predRF = rf.predict(X_test_drop)\n",
    "accuracyRF = accuracy_score(y_test, y_predRF)\n",
    "print(f\"Accuracy: {accuracyRF:.2f}\")"
   ]
  },
  {
   "attachments": {},
   "cell_type": "markdown",
   "metadata": {},
   "source": [
    "Cross-Validation for Random Forest"
   ]
  },
  {
   "cell_type": "code",
   "execution_count": 19,
   "metadata": {},
   "outputs": [
    {
     "name": "stdout",
     "output_type": "stream",
     "text": [
      "Cross-validation scores: [0.9802 0.9777 0.9772 0.98   0.9774 0.9783 0.9782 0.9806 0.9779 0.9787]\n",
      "Mean score: 0.97862\n"
     ]
    },
    {
     "data": {
      "image/png": "[encoded data removed]",
      "text/plain": [
       "<Figure size 640x480 with 1 Axes>"
      ]
     },
     "metadata": {},
     "output_type": "display_data"
    }
   ],
   "source": [
    "# Utilizza la cross-validation per valutare l'accuratezza del modello\n",
    "skf = StratifiedKFold(10, shuffle = True, random_state = 21)\n",
    "scores = cross_val_score(rf, X, y, cv=skf)\n",
    "\n",
    "# Stampa i risultati della cross-validation\n",
    "print(f\"Cross-validation scores: {scores}\")\n",
    "print(f\"Mean score: { scores.mean()}\")\n",
    "\n",
    "# Disegna la curva di apprendimento del modello\n",
    "train_sizes, train_scores, test_scores = learning_curve(rf, X, y, cv=skf) # type: ignore\n",
    "\n",
    "plt.plot(train_sizes, train_scores.mean(axis=1), 'o-', color='r', label=\"Training score\")\n",
    "plt.plot(train_sizes, test_scores.mean(axis=1), 'o-', color='g', label=\"Cross-validation score\")\n",
    "\n",
    "plt.title(\"Learning Curves (Random Forest)\")\n",
    "plt.xlabel(\"Training examples\")\n",
    "plt.ylabel(\"Score\")\n",
    "plt.legend(loc=\"best\")\n",
    "plt.show()"
   ]
  },
  {
   "attachments": {},
   "cell_type": "markdown",
   "metadata": {},
   "source": [
    "<h2>Bayesian Classifier</h2>"
   ]
  },
  {
   "cell_type": "code",
   "execution_count": 20,
   "metadata": {},
   "outputs": [
    {
     "name": "stdout",
     "output_type": "stream",
     "text": [
      "Accuracy: 0.30\n"
     ]
    }
   ],
   "source": [
    "from sklearn.naive_bayes import GaussianNB\n",
    "from scipy.stats import pearsonr\n",
    "\n",
    "# Create the model\n",
    "gnb = GaussianNB()\n",
    "\n",
    "# Fit the model\n",
    "gnb.fit(X_train_class, y_train_class)\n",
    "\n",
    "# Check the accuracy\n",
    "y_predBC = gnb.predict(X_test_drop)\n",
    "accuracyBC = accuracy_score(y_test, y_predBC)\n",
    "print(f\"Accuracy: {accuracyBC:.2f}\")"
   ]
  },
  {
   "cell_type": "code",
   "execution_count": 21,
   "metadata": {},
   "outputs": [
    {
     "name": "stdout",
     "output_type": "stream",
     "text": [
      "Cross-validation scores: [0.6038 0.6052 0.6014 0.6006 0.599  0.6008 0.6053 0.6004 0.5985 0.6024]\n",
      "Mean score: 0.6017399999999999\n"
     ]
    },
    {
     "data": {
      "image/png": "[encoded data removed]",
      "text/plain": [
       "<Figure size 640x480 with 1 Axes>"
      ]
     },
     "metadata": {},
     "output_type": "display_data"
    }
   ],
   "source": [
    "# Utilizza la cross-validation per valutare l'accuratezza del modello\n",
    "skf = StratifiedKFold(10, shuffle = True, random_state = 21)\n",
    "scores = cross_val_score(gnb, X, y, cv=skf)\n",
    "\n",
    "# Stampa i risultati della cross-validation\n",
    "print(f\"Cross-validation scores: {scores}\")\n",
    "print(f\"Mean score: { scores.mean()}\")\n",
    "\n",
    "# Disegna la curva di apprendimento del modello\n",
    "train_sizes, train_scores, test_scores = learning_curve(gnb, X, y, cv=skf) # type: ignore\n",
    "\n",
    "plt.plot(train_sizes, train_scores.mean(axis=1), 'o-', color='r', label=\"Training score\")\n",
    "plt.plot(train_sizes, test_scores.mean(axis=1), 'o-', color='g', label=\"Cross-validation score\")\n",
    "\n",
    "plt.title(\"Learning Curves (Bayesian Classifier)\")\n",
    "plt.xlabel(\"Training examples\")\n",
    "plt.ylabel(\"Score\")\n",
    "plt.legend(loc=\"best\")\n",
    "plt.show()"
   ]
  },
  {
   "attachments": {},
   "cell_type": "markdown",
   "metadata": {},
   "source": [
    "<h3>ACCURACY</h3>\n",
    "Now we will analize the accuracy of all the tried classifier.<br>\n",
    "We can note that the best algorithm is Random Forest\n"
   ]
  },
  {
   "cell_type": "code",
   "execution_count": null,
   "metadata": {},
   "outputs": [],
   "source": [
    "print(f\"Accuracy of Random Forest: {accuracyRF:.2f}\")\n",
    "print(f\"Accuracy of Decision Tree: {accuracyDT:.2f}\")\n",
    "print(f\"Accuracy of KNN: {accuracyKNN:.2f}\")\n",
    "print(f\"Accuracy of Bayesian Classifier: {accuracyBC:.2f}\")"
   ]
  },
  {
   "cell_type": "code",
   "execution_count": null,
   "metadata": {},
   "outputs": [],
   "source": [
    "print('Train Sizes:')\n",
    "print(train_sizes)\n",
    "print()\n",
    "print('Train Scores:')\n",
    "print(train_scores) \n",
    "print()\n",
    "print('Test Scores:')\n",
    "for i in range(5):\n",
    "    print(test_scores[i])\n",
    "    print(f'Mean: {test_scores[i].mean()}')"
   ]
  },
  {
   "attachments": {},
   "cell_type": "markdown",
   "metadata": {},
   "source": [
    "Here I compute the Confusion Matrix for the Random Forest algorithm\n"
   ]
  },
  {
   "cell_type": "code",
   "execution_count": null,
   "metadata": {},
   "outputs": [],
   "source": [
    "from sklearn.metrics import confusion_matrix\n",
    "confusion_matrix = confusion_matrix(y_test, y_predRF)\n",
    "\n",
    "from yellowbrick.classifier import ConfusionMatrix\n",
    "rf_cm = ConfusionMatrix(rf, classes=['GALAXY','STAR','QSO'])\n",
    "\n",
    "rf_cm.fit(X_train_class, y_train_class)\n",
    "rf_cm.score(X_test_drop, y_test)\n",
    "rf_cm.show()"
   ]
  },
  {
   "attachments": {},
   "cell_type": "markdown",
   "metadata": {},
   "source": [
    "Compute **Accuracy**, **Sensitivity**, **Specificity**, **Precision** and **Recall** form the Confusion Matrix"
   ]
  },
  {
   "cell_type": "code",
   "execution_count": null,
   "metadata": {},
   "outputs": [],
   "source": [
    "# Estraiamo gli elementi della confusion matrix che ci serviranno per calcolare le metriche\n",
    "tp0, tp1, tp2 = confusion_matrix[0, 0], confusion_matrix[1, 1], confusion_matrix[2, 2]\n",
    "fn0, fn1, fn2 = confusion_matrix[0, 1] + confusion_matrix[0, 2], confusion_matrix[1, 0] + confusion_matrix[1, 2], confusion_matrix[2, 0] + confusion_matrix[2, 1]\n",
    "fp0, fp1, fp2 = confusion_matrix[1, 0] + confusion_matrix[2, 0], confusion_matrix[0, 1] + confusion_matrix[2, 1], confusion_matrix[0, 2] + confusion_matrix[1, 2]\n",
    "tn0 = confusion_matrix[1, 1] + confusion_matrix[1, 2] + confusion_matrix[2, 1] + confusion_matrix[2, 2]\n",
    "tn1 = confusion_matrix[0, 0] + confusion_matrix[0, 2] + confusion_matrix[2, 0] + confusion_matrix[2, 2]\n",
    "tn2 = confusion_matrix[0, 0] + confusion_matrix[0, 1] + confusion_matrix[1, 0] + confusion_matrix[1, 1]\n",
    "\n",
    "# Calcoliamo le metriche\n",
    "accuracy0 = (tp0 + tn0)/confusion_matrix.sum()\n",
    "accuracy1 = (tp1 + tn1)/confusion_matrix.sum()\n",
    "accuracy2 = (tp2 + tn2)/confusion_matrix.sum()\n",
    "sensitivity0 = tp0 / (tp0 + fn0)\n",
    "sensitivity1 = tp1 / (tp1 + fn1)\n",
    "sensitivity2 = tp2 / (tp2 + fn2)\n",
    "specificity0 = tn0 / (tn0 + fp0)\n",
    "specificity1 = tn1 / (tn1 + fp1)\n",
    "specificity2 = tn2 / (tn2 + fp2)\n",
    "precision0 = tp0 / (tp0 + fp0)\n",
    "precision1 = tp1 / (tp1 + fp1)\n",
    "precision2 = tp2 / (tp2 + fp2)\n",
    "recall0 = tp0 / (tp0 + fn0)\n",
    "recall1 = tp1 / (tp1 + fn1)\n",
    "recall2 = tp2 / (tp2 + fn2)\n",
    "fMeasure0 = (2*recall0*precision0)/(recall0+precision0)\n",
    "fMeasure1 = (2*recall1*precision1)/(recall1+precision1)\n",
    "fMeasure2 = (2*recall2*precision2)/(recall2+precision2)\n",
    "\n",
    "\n",
    "print(f\"Accuracy (GALAXY): {accuracy0:.2f}\")\n",
    "print(f\"Accuracy (STAR): {accuracy1:.2f}\")\n",
    "print(f\"Accuracy (QUASAR): {accuracy2:.2f}\")\n",
    "print()\n",
    "print(f\"Sensitivity (GALAXY): {sensitivity0:.2f}\")\n",
    "print(f\"Sensitivity (STAR): {sensitivity1:.2f}\")\n",
    "print(f\"Sensitivity (QUASAR): {sensitivity2:.2f}\")\n",
    "print()\n",
    "print(f\"Specificity (GALAXY): {specificity0:.2f}\")\n",
    "print(f\"Specificity (STAR): {specificity1:.2f}\")\n",
    "print(f\"Specificity (QUASAR): {specificity2:.2f}\")\n",
    "print()\n",
    "print(f\"Precision (GALAXY): {precision0:.2f}\")\n",
    "print(f\"Precision (STAR): {precision1:.2f}\")\n",
    "print(f\"Precision (QUASAR): {precision2:.2f}\")\n",
    "print()\n",
    "print(f\"Recall (GALAXY): {recall0:.2f}\")\n",
    "print(f\"Recall (STAR): {recall1:.2f}\")\n",
    "print(f\"Recall (QUASAR): {recall2:.2f}\")\n",
    "print()\n",
    "print(f\"F Measure (GALAXY): {fMeasure0:.2f}\")\n",
    "print(f\"F Measure (STAR): {fMeasure1:.2f}\")\n",
    "print(f\"F Measure (QUASAR): {fMeasure2:.2f}\")"
   ]
  },
  {
   "attachments": {},
   "cell_type": "markdown",
   "metadata": {},
   "source": [
    "<h1 style=\"font-weight: bold\">Save The Model<h1>"
   ]
  },
  {
   "attachments": {},
   "cell_type": "markdown",
   "metadata": {},
   "source": [
    "<p style=\"size: 12pt\">I'll save the model of Random Forest in a file, for using them in an external application</p>"
   ]
  },
  {
   "cell_type": "code",
   "execution_count": null,
   "metadata": {},
   "outputs": [],
   "source": [
    "with open('starClassificationApp/model.pkl', 'wb') as f:\n",
    "    pickle.dump(rf, f)"
   ]
  }
 ],
 "metadata": {
  "kernelspec": {
   "display_name": "DMML",
   "language": "python",
   "name": "python3"
  },
  "language_info": {
   "codemirror_mode": {
    "name": "ipython",
    "version": 3
   },
   "file_extension": ".py",
   "mimetype": "text/x-python",
   "name": "python",
   "nbconvert_exporter": "python",
   "pygments_lexer": "ipython3",
   "version": "3.10.4"
  },
  "vscode": {
   "interpreter": {
    "hash": "108577842efddff3bd4824ec9bdd12effc6dfe96f030cd77b02bee11f8da132d"
   }
  }
 },
 "nbformat": 4,
 "nbformat_minor": 2
}
