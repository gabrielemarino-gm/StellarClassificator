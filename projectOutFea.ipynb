{
 "cells": [
  {
   "attachments": {},
   "cell_type": "markdown",
   "metadata": {},
   "source": [
    "<h1>Galaxies, Stars and Quasars classification</h1>\n",
    "The Dataset are made in this way:\n",
    "<ul>\n",
    "    <li>objid       = Object Identifier, the unique value that identifies the object in the image catalog used by the CAS</li>\n",
    "    <li>ra          = Right Ascension angle (at J2000 epoch)</li>\n",
    "    <li>dec         = Declination angle (at J2000 epoch)</li>\n",
    "    <li>u           = Ultraviolet filter in the photometric system</li>\n",
    "    <li>g           = Green filter in the photometric system</li>\n",
    "    <li>r           = Red filter in the photometric system</li>\n",
    "    <li>i           = Near Infrared filter in the photometric system</li>\n",
    "    <li>z           = Infrared filter in the photometric system</li>\n",
    "    <li>run         = Run Number used to identify the specific scan</li>\n",
    "    <li>rereun      = Rerun Number to specify how the image was processed</li>\n",
    "    <li>camcol      = Camera column to identify the scanline within the run</li>\n",
    "    <li>field       = Field number to identify each field</li>\n",
    "    <li>specobjid   = Unique ID used for optical spectroscopic objects (this means that 2 different observations with the same spec_obj_ID must share the output class)</li>\n",
    "    <li>redshift    = redshift value based on the increase in wavelength</li>\n",
    "    <li>plate       = plate ID, identifies each plate in SDSS</li>\n",
    "    <li>mjd         = Modified Julian Date, used to indicate when a given piece of SDSS data was taken</li>\n",
    "    <li>fiberid     = fiber ID that identifies the fiber that pointed the light at the focal plane in each observation</li>\n",
    "    <li>class       = object class (galaxy, star or quasar object)</li>\n",
    "</ul>"
   ]
  },
  {
   "cell_type": "code",
   "execution_count": 1,
   "metadata": {},
   "outputs": [],
   "source": [
    "import os\n",
    "import numpy as np\n",
    "import pandas as pd\n",
    "import seaborn as sns\n",
    "import matplotlib.pylab as plt\n",
    "from sklearn.model_selection import train_test_split\n",
    "from sklearn.feature_selection import mutual_info_regression, f_regression, SelectKBest\n",
    "from imblearn.over_sampling import SMOTE\n",
    "from sklearn.neighbors import KNeighborsClassifier\n",
    "from sklearn.tree import DecisionTreeClassifier\n",
    "from sklearn.ensemble import RandomForestClassifier\n",
    "from sklearn.naive_bayes import GaussianNB\n",
    "from scipy.stats import pearsonr\n",
    "from sklearn.model_selection import cross_val_score, learning_curve\n",
    "from sklearn.metrics import accuracy_score\n",
    "from sklearn.metrics import confusion_matrix\n",
    "import pickle"
   ]
  },
  {
   "cell_type": "markdown",
   "metadata": {},
   "source": [
    "Let's start loading the dataset in a dataframe"
   ]
  },
  {
   "cell_type": "code",
   "execution_count": 2,
   "metadata": {},
   "outputs": [
    {
     "ename": "FileNotFoundError",
     "evalue": "[Errno 2] No such file or directory: 'FileCSV/star_classification.csv'",
     "output_type": "error",
     "traceback": [
      "\u001b[0;31m---------------------------------------------------------------------------\u001b[0m",
      "\u001b[0;31mFileNotFoundError\u001b[0m                         Traceback (most recent call last)",
      "\u001b[1;32m/Users/gabriele/Desktop/Università/Primo Anno/Data Mining and Machine Learnig/project.ipynb Cella 4\u001b[0m in \u001b[0;36m<cell line: 2>\u001b[0;34m()\u001b[0m\n\u001b[1;32m      <a href='vscode-notebook-cell:/Users/gabriele/Desktop/Universita%CC%80/Primo%20Anno/Data%20Mining%20and%20Machine%20Learnig/project.ipynb#W3sZmlsZQ%3D%3D?line=0'>1</a>\u001b[0m \u001b[39m# dfStars = pd.read_csv('Skyserver_12_15_2020 3 45 07 AM.csv', na_values=\"?\")\u001b[39;00m\n\u001b[0;32m----> <a href='vscode-notebook-cell:/Users/gabriele/Desktop/Universita%CC%80/Primo%20Anno/Data%20Mining%20and%20Machine%20Learnig/project.ipynb#W3sZmlsZQ%3D%3D?line=1'>2</a>\u001b[0m dfStars \u001b[39m=\u001b[39m pd\u001b[39m.\u001b[39;49mread_csv(\u001b[39m'\u001b[39;49m\u001b[39mFileCSV/star_classification.csv\u001b[39;49m\u001b[39m'\u001b[39;49m, na_values\u001b[39m=\u001b[39;49m\u001b[39m\"\u001b[39;49m\u001b[39m?\u001b[39;49m\u001b[39m\"\u001b[39;49m)\n\u001b[1;32m      <a href='vscode-notebook-cell:/Users/gabriele/Desktop/Universita%CC%80/Primo%20Anno/Data%20Mining%20and%20Machine%20Learnig/project.ipynb#W3sZmlsZQ%3D%3D?line=2'>3</a>\u001b[0m dfStars\n",
      "File \u001b[0;32m~/opt/anaconda3/envs/DMML/lib/python3.10/site-packages/pandas/util/_decorators.py:211\u001b[0m, in \u001b[0;36mdeprecate_kwarg.<locals>._deprecate_kwarg.<locals>.wrapper\u001b[0;34m(*args, **kwargs)\u001b[0m\n\u001b[1;32m    209\u001b[0m     \u001b[39melse\u001b[39;00m:\n\u001b[1;32m    210\u001b[0m         kwargs[new_arg_name] \u001b[39m=\u001b[39m new_arg_value\n\u001b[0;32m--> 211\u001b[0m \u001b[39mreturn\u001b[39;00m func(\u001b[39m*\u001b[39;49margs, \u001b[39m*\u001b[39;49m\u001b[39m*\u001b[39;49mkwargs)\n",
      "File \u001b[0;32m~/opt/anaconda3/envs/DMML/lib/python3.10/site-packages/pandas/util/_decorators.py:317\u001b[0m, in \u001b[0;36mdeprecate_nonkeyword_arguments.<locals>.decorate.<locals>.wrapper\u001b[0;34m(*args, **kwargs)\u001b[0m\n\u001b[1;32m    311\u001b[0m \u001b[39mif\u001b[39;00m \u001b[39mlen\u001b[39m(args) \u001b[39m>\u001b[39m num_allow_args:\n\u001b[1;32m    312\u001b[0m     warnings\u001b[39m.\u001b[39mwarn(\n\u001b[1;32m    313\u001b[0m         msg\u001b[39m.\u001b[39mformat(arguments\u001b[39m=\u001b[39marguments),\n\u001b[1;32m    314\u001b[0m         \u001b[39mFutureWarning\u001b[39;00m,\n\u001b[1;32m    315\u001b[0m         stacklevel\u001b[39m=\u001b[39mfind_stack_level(inspect\u001b[39m.\u001b[39mcurrentframe()),\n\u001b[1;32m    316\u001b[0m     )\n\u001b[0;32m--> 317\u001b[0m \u001b[39mreturn\u001b[39;00m func(\u001b[39m*\u001b[39;49margs, \u001b[39m*\u001b[39;49m\u001b[39m*\u001b[39;49mkwargs)\n",
      "File \u001b[0;32m~/opt/anaconda3/envs/DMML/lib/python3.10/site-packages/pandas/io/parsers/readers.py:950\u001b[0m, in \u001b[0;36mread_csv\u001b[0;34m(filepath_or_buffer, sep, delimiter, header, names, index_col, usecols, squeeze, prefix, mangle_dupe_cols, dtype, engine, converters, true_values, false_values, skipinitialspace, skiprows, skipfooter, nrows, na_values, keep_default_na, na_filter, verbose, skip_blank_lines, parse_dates, infer_datetime_format, keep_date_col, date_parser, dayfirst, cache_dates, iterator, chunksize, compression, thousands, decimal, lineterminator, quotechar, quoting, doublequote, escapechar, comment, encoding, encoding_errors, dialect, error_bad_lines, warn_bad_lines, on_bad_lines, delim_whitespace, low_memory, memory_map, float_precision, storage_options)\u001b[0m\n\u001b[1;32m    935\u001b[0m kwds_defaults \u001b[39m=\u001b[39m _refine_defaults_read(\n\u001b[1;32m    936\u001b[0m     dialect,\n\u001b[1;32m    937\u001b[0m     delimiter,\n\u001b[0;32m   (...)\u001b[0m\n\u001b[1;32m    946\u001b[0m     defaults\u001b[39m=\u001b[39m{\u001b[39m\"\u001b[39m\u001b[39mdelimiter\u001b[39m\u001b[39m\"\u001b[39m: \u001b[39m\"\u001b[39m\u001b[39m,\u001b[39m\u001b[39m\"\u001b[39m},\n\u001b[1;32m    947\u001b[0m )\n\u001b[1;32m    948\u001b[0m kwds\u001b[39m.\u001b[39mupdate(kwds_defaults)\n\u001b[0;32m--> 950\u001b[0m \u001b[39mreturn\u001b[39;00m _read(filepath_or_buffer, kwds)\n",
      "File \u001b[0;32m~/opt/anaconda3/envs/DMML/lib/python3.10/site-packages/pandas/io/parsers/readers.py:605\u001b[0m, in \u001b[0;36m_read\u001b[0;34m(filepath_or_buffer, kwds)\u001b[0m\n\u001b[1;32m    602\u001b[0m _validate_names(kwds\u001b[39m.\u001b[39mget(\u001b[39m\"\u001b[39m\u001b[39mnames\u001b[39m\u001b[39m\"\u001b[39m, \u001b[39mNone\u001b[39;00m))\n\u001b[1;32m    604\u001b[0m \u001b[39m# Create the parser.\u001b[39;00m\n\u001b[0;32m--> 605\u001b[0m parser \u001b[39m=\u001b[39m TextFileReader(filepath_or_buffer, \u001b[39m*\u001b[39;49m\u001b[39m*\u001b[39;49mkwds)\n\u001b[1;32m    607\u001b[0m \u001b[39mif\u001b[39;00m chunksize \u001b[39mor\u001b[39;00m iterator:\n\u001b[1;32m    608\u001b[0m     \u001b[39mreturn\u001b[39;00m parser\n",
      "File \u001b[0;32m~/opt/anaconda3/envs/DMML/lib/python3.10/site-packages/pandas/io/parsers/readers.py:1442\u001b[0m, in \u001b[0;36mTextFileReader.__init__\u001b[0;34m(self, f, engine, **kwds)\u001b[0m\n\u001b[1;32m   1439\u001b[0m     \u001b[39mself\u001b[39m\u001b[39m.\u001b[39moptions[\u001b[39m\"\u001b[39m\u001b[39mhas_index_names\u001b[39m\u001b[39m\"\u001b[39m] \u001b[39m=\u001b[39m kwds[\u001b[39m\"\u001b[39m\u001b[39mhas_index_names\u001b[39m\u001b[39m\"\u001b[39m]\n\u001b[1;32m   1441\u001b[0m \u001b[39mself\u001b[39m\u001b[39m.\u001b[39mhandles: IOHandles \u001b[39m|\u001b[39m \u001b[39mNone\u001b[39;00m \u001b[39m=\u001b[39m \u001b[39mNone\u001b[39;00m\n\u001b[0;32m-> 1442\u001b[0m \u001b[39mself\u001b[39m\u001b[39m.\u001b[39m_engine \u001b[39m=\u001b[39m \u001b[39mself\u001b[39;49m\u001b[39m.\u001b[39;49m_make_engine(f, \u001b[39mself\u001b[39;49m\u001b[39m.\u001b[39;49mengine)\n",
      "File \u001b[0;32m~/opt/anaconda3/envs/DMML/lib/python3.10/site-packages/pandas/io/parsers/readers.py:1729\u001b[0m, in \u001b[0;36mTextFileReader._make_engine\u001b[0;34m(self, f, engine)\u001b[0m\n\u001b[1;32m   1727\u001b[0m     is_text \u001b[39m=\u001b[39m \u001b[39mFalse\u001b[39;00m\n\u001b[1;32m   1728\u001b[0m     mode \u001b[39m=\u001b[39m \u001b[39m\"\u001b[39m\u001b[39mrb\u001b[39m\u001b[39m\"\u001b[39m\n\u001b[0;32m-> 1729\u001b[0m \u001b[39mself\u001b[39m\u001b[39m.\u001b[39mhandles \u001b[39m=\u001b[39m get_handle(\n\u001b[1;32m   1730\u001b[0m     f,\n\u001b[1;32m   1731\u001b[0m     mode,\n\u001b[1;32m   1732\u001b[0m     encoding\u001b[39m=\u001b[39;49m\u001b[39mself\u001b[39;49m\u001b[39m.\u001b[39;49moptions\u001b[39m.\u001b[39;49mget(\u001b[39m\"\u001b[39;49m\u001b[39mencoding\u001b[39;49m\u001b[39m\"\u001b[39;49m, \u001b[39mNone\u001b[39;49;00m),\n\u001b[1;32m   1733\u001b[0m     compression\u001b[39m=\u001b[39;49m\u001b[39mself\u001b[39;49m\u001b[39m.\u001b[39;49moptions\u001b[39m.\u001b[39;49mget(\u001b[39m\"\u001b[39;49m\u001b[39mcompression\u001b[39;49m\u001b[39m\"\u001b[39;49m, \u001b[39mNone\u001b[39;49;00m),\n\u001b[1;32m   1734\u001b[0m     memory_map\u001b[39m=\u001b[39;49m\u001b[39mself\u001b[39;49m\u001b[39m.\u001b[39;49moptions\u001b[39m.\u001b[39;49mget(\u001b[39m\"\u001b[39;49m\u001b[39mmemory_map\u001b[39;49m\u001b[39m\"\u001b[39;49m, \u001b[39mFalse\u001b[39;49;00m),\n\u001b[1;32m   1735\u001b[0m     is_text\u001b[39m=\u001b[39;49mis_text,\n\u001b[1;32m   1736\u001b[0m     errors\u001b[39m=\u001b[39;49m\u001b[39mself\u001b[39;49m\u001b[39m.\u001b[39;49moptions\u001b[39m.\u001b[39;49mget(\u001b[39m\"\u001b[39;49m\u001b[39mencoding_errors\u001b[39;49m\u001b[39m\"\u001b[39;49m, \u001b[39m\"\u001b[39;49m\u001b[39mstrict\u001b[39;49m\u001b[39m\"\u001b[39;49m),\n\u001b[1;32m   1737\u001b[0m     storage_options\u001b[39m=\u001b[39;49m\u001b[39mself\u001b[39;49m\u001b[39m.\u001b[39;49moptions\u001b[39m.\u001b[39;49mget(\u001b[39m\"\u001b[39;49m\u001b[39mstorage_options\u001b[39;49m\u001b[39m\"\u001b[39;49m, \u001b[39mNone\u001b[39;49;00m),\n\u001b[1;32m   1738\u001b[0m )\n\u001b[1;32m   1739\u001b[0m \u001b[39massert\u001b[39;00m \u001b[39mself\u001b[39m\u001b[39m.\u001b[39mhandles \u001b[39mis\u001b[39;00m \u001b[39mnot\u001b[39;00m \u001b[39mNone\u001b[39;00m\n\u001b[1;32m   1740\u001b[0m f \u001b[39m=\u001b[39m \u001b[39mself\u001b[39m\u001b[39m.\u001b[39mhandles\u001b[39m.\u001b[39mhandle\n",
      "File \u001b[0;32m~/opt/anaconda3/envs/DMML/lib/python3.10/site-packages/pandas/io/common.py:857\u001b[0m, in \u001b[0;36mget_handle\u001b[0;34m(path_or_buf, mode, encoding, compression, memory_map, is_text, errors, storage_options)\u001b[0m\n\u001b[1;32m    852\u001b[0m \u001b[39melif\u001b[39;00m \u001b[39misinstance\u001b[39m(handle, \u001b[39mstr\u001b[39m):\n\u001b[1;32m    853\u001b[0m     \u001b[39m# Check whether the filename is to be opened in binary mode.\u001b[39;00m\n\u001b[1;32m    854\u001b[0m     \u001b[39m# Binary mode does not support 'encoding' and 'newline'.\u001b[39;00m\n\u001b[1;32m    855\u001b[0m     \u001b[39mif\u001b[39;00m ioargs\u001b[39m.\u001b[39mencoding \u001b[39mand\u001b[39;00m \u001b[39m\"\u001b[39m\u001b[39mb\u001b[39m\u001b[39m\"\u001b[39m \u001b[39mnot\u001b[39;00m \u001b[39min\u001b[39;00m ioargs\u001b[39m.\u001b[39mmode:\n\u001b[1;32m    856\u001b[0m         \u001b[39m# Encoding\u001b[39;00m\n\u001b[0;32m--> 857\u001b[0m         handle \u001b[39m=\u001b[39m \u001b[39mopen\u001b[39;49m(\n\u001b[1;32m    858\u001b[0m             handle,\n\u001b[1;32m    859\u001b[0m             ioargs\u001b[39m.\u001b[39;49mmode,\n\u001b[1;32m    860\u001b[0m             encoding\u001b[39m=\u001b[39;49mioargs\u001b[39m.\u001b[39;49mencoding,\n\u001b[1;32m    861\u001b[0m             errors\u001b[39m=\u001b[39;49merrors,\n\u001b[1;32m    862\u001b[0m             newline\u001b[39m=\u001b[39;49m\u001b[39m\"\u001b[39;49m\u001b[39m\"\u001b[39;49m,\n\u001b[1;32m    863\u001b[0m         )\n\u001b[1;32m    864\u001b[0m     \u001b[39melse\u001b[39;00m:\n\u001b[1;32m    865\u001b[0m         \u001b[39m# Binary mode\u001b[39;00m\n\u001b[1;32m    866\u001b[0m         handle \u001b[39m=\u001b[39m \u001b[39mopen\u001b[39m(handle, ioargs\u001b[39m.\u001b[39mmode)\n",
      "\u001b[0;31mFileNotFoundError\u001b[0m: [Errno 2] No such file or directory: 'FileCSV/star_classification.csv'"
     ]
    }
   ],
   "source": [
    "# dfStars = pd.read_csv('Skyserver_12_15_2020 3 45 07 AM.csv', na_values=\"?\")\n",
    "dfStars = pd.read_csv('FileCSV/star_classification.csv', na_values=\"?\")\n",
    "dfStars"
   ]
  },
  {
   "cell_type": "code",
   "execution_count": null,
   "metadata": {},
   "outputs": [],
   "source": [
    "dfStars.head().T"
   ]
  },
  {
   "cell_type": "markdown",
   "metadata": {},
   "source": [
    "Here I check the distribution of the Labeled-Class"
   ]
  },
  {
   "cell_type": "code",
   "execution_count": null,
   "metadata": {},
   "outputs": [],
   "source": [
    "dfStars['class'].value_counts()"
   ]
  },
  {
   "cell_type": "code",
   "execution_count": null,
   "metadata": {},
   "outputs": [],
   "source": [
    "fig,axes = plt.subplots(1, 1, figsize=(5,5), sharey=True)\n",
    "sns.countplot(x='class',data = dfStars, ax = axes, order = dfStars['class'].value_counts().index)\n",
    "plt.show()"
   ]
  },
  {
   "cell_type": "markdown",
   "metadata": {},
   "source": [
    "Check same info about the feature of the DataSet"
   ]
  },
  {
   "cell_type": "code",
   "execution_count": null,
   "metadata": {},
   "outputs": [],
   "source": [
    "dfStars.drop('class', axis=1).describe()"
   ]
  },
  {
   "cell_type": "code",
   "execution_count": null,
   "metadata": {},
   "outputs": [],
   "source": [
    "dfStars.info()"
   ]
  },
  {
   "cell_type": "markdown",
   "metadata": {},
   "source": [
    "Check for Nan or Null value"
   ]
  },
  {
   "cell_type": "code",
   "execution_count": null,
   "metadata": {},
   "outputs": [],
   "source": [
    "dfStars.isna().sum(axis=0)"
   ]
  },
  {
   "cell_type": "markdown",
   "metadata": {},
   "source": [
    "Checking if there is some duplicate"
   ]
  },
  {
   "cell_type": "code",
   "execution_count": null,
   "metadata": {},
   "outputs": [],
   "source": [
    "dfStars[dfStars.duplicated(keep=False)]"
   ]
  },
  {
   "cell_type": "markdown",
   "metadata": {},
   "source": [
    "<h1>Normalization of the classed-class</h1>\n",
    "\n"
   ]
  },
  {
   "cell_type": "code",
   "execution_count": null,
   "metadata": {},
   "outputs": [],
   "source": [
    "# Normalize the classed-class with numerical data\n",
    "dfStars['class'] = dfStars['class'].replace({'GALAXY': 0, 'STAR': 1, 'QSO': 2})"
   ]
  },
  {
   "cell_type": "code",
   "execution_count": null,
   "metadata": {},
   "outputs": [],
   "source": [
    "f, ax = plt.subplots(figsize=(10, 8))\n",
    "sns.heatmap(dfStars.drop(['class'], axis = 1).corr(), annot=True, linewidths=.5, fmt='.2f', ax=ax, annot_kws={'fontsize': 8})\n",
    "plt.show()"
   ]
  },
  {
   "attachments": {},
   "cell_type": "markdown",
   "metadata": {},
   "source": [
    "<h3>Distribution of each useful attribute divided by class</h3>\n",
    "This distribution will be useful for make a comparison with the dataset after the rebalance part"
   ]
  },
  {
   "cell_type": "code",
   "execution_count": null,
   "metadata": {},
   "outputs": [],
   "source": [
    "dfStars['last'] = 0\n",
    "for att in dfStars.drop(['objid','ra','run','rerun','camcol','field','fiberid', 'class'], axis = 1).columns[:-1]:\n",
    "    dfStars.hist(column=att, by='class', bins=7, figsize=(15,4), layout = (1,3))\n",
    "    print(att)\n",
    "    plt.show()\n",
    "\n"
   ]
  },
  {
   "cell_type": "code",
   "execution_count": null,
   "metadata": {},
   "outputs": [],
   "source": [
    "for att in dfStars.drop(['objid', 'ra', 'run','rerun','camcol','field','fiberid', 'class'], axis = 1).columns[:-1]:\n",
    "    sns.boxplot(x='class', y=att, data=dfStars)\n",
    "    plt.show()"
   ]
  },
  {
   "attachments": {},
   "cell_type": "markdown",
   "metadata": {},
   "source": [
    "Show the relationship between all pairs of variables into the dataset"
   ]
  },
  {
   "cell_type": "code",
   "execution_count": null,
   "metadata": {},
   "outputs": [],
   "source": [
    "# sns.pairplot(data=dfStars, hue=\"class\")"
   ]
  },
  {
   "cell_type": "markdown",
   "metadata": {},
   "source": [
    "<h1>Split the dataset in training set and test set.</h1>"
   ]
  },
  {
   "cell_type": "code",
   "execution_count": null,
   "metadata": {},
   "outputs": [],
   "source": [
    "# Split the dataset into features and classs\n",
    "X = dfStars.drop('class', axis=1)\n",
    "y = dfStars['class']\n",
    "X.shape, y.shape"
   ]
  },
  {
   "cell_type": "code",
   "execution_count": null,
   "metadata": {},
   "outputs": [],
   "source": [
    "X_train, X_test, y_train, y_test = train_test_split(X, y, test_size=0.3, random_state=0)\n",
    "\n",
    "print('Shape of the train and test set')\n",
    "print(X_train.shape) # type: ignore\n",
    "print(X_test.shape) # type: ignore\n",
    "print()\n",
    "print('Distribution of the labeled-classes')  \n",
    "print()\n",
    "print(\"Training Set\")\n",
    "print(pd.Series(y_train).value_counts())\n",
    "print()\n",
    "print(\"Test Set\")\n",
    "print(pd.Series(y_test).value_counts())"
   ]
  },
  {
   "cell_type": "markdown",
   "metadata": {},
   "source": [
    "<h1>Feature Selection</h1>"
   ]
  },
  {
   "attachments": {},
   "cell_type": "markdown",
   "metadata": {},
   "source": [
    "In the following cell I perform SelectKBest wit f_regression with k=10, for select the best feature"
   ]
  },
  {
   "cell_type": "code",
   "execution_count": null,
   "metadata": {},
   "outputs": [],
   "source": [
    "# Create an object SelectKBest with the value of k\n",
    "selector = SelectKBest(score_func=f_regression, k=10)\n",
    "\n",
    "# Fit\n",
    "X_selected = selector.fit_transform(X_train, y_train)\n",
    "\n",
    "dfKBest = pd.DataFrame(selector.scores_, columns=['Score'])\n",
    "dfKBest.index = ['objid','ra','dec','u','g','r','i','z','run','rerun','camcol','field','specobjid','redshift','plate','mjd','fiberid'] # type: ignore\n",
    "display(dfKBest.sort_values(by='Score', ascending=False))\n",
    "print()\n",
    "print(\"Features selected:\")\n",
    "print(X_train.columns[selector.get_support()]) # type: ignore"
   ]
  },
  {
   "attachments": {},
   "cell_type": "markdown",
   "metadata": {},
   "source": [
    "<h3>Delete Features</h3>\n",
    "Drop all features rated lower than 10"
   ]
  },
  {
   "cell_type": "code",
   "execution_count": null,
   "metadata": {},
   "outputs": [],
   "source": [
    "X_train.drop(['objid', 'ra', 'run','rerun','camcol','field','fiberid'], axis = 1, inplace=True) # type: ignore"
   ]
  },
  {
   "attachments": {},
   "cell_type": "markdown",
   "metadata": {},
   "source": [
    "<h1>Rebalance Dataset</h1>\n",
    "I add features into the two minority classes (STAR, QSO) until they reach the class with the higer number of examble (GALAXY). <br>\n",
    "In the following snip of code I implement an over sampling without replacement, using SMOTE."
   ]
  },
  {
   "cell_type": "code",
   "execution_count": null,
   "metadata": {},
   "outputs": [],
   "source": [
    "# using oversampling with SMOTE to deal with imbalanced data\n",
    "sm = SMOTE(random_state=42)\n",
    "X_train_after_balancing, y_train_after_balancing = sm.fit_resample(X_train, y_train) # type: ignore\n",
    "\n",
    "print(X_train_after_balancing.shape) # type: ignore\n",
    "y_train_after_balancing.value_counts() # type: ignore"
   ]
  },
  {
   "attachments": {},
   "cell_type": "markdown",
   "metadata": {},
   "source": [
    "Now I analyse the distribution of each attribute, after the rebalancing of the datasets"
   ]
  },
  {
   "cell_type": "code",
   "execution_count": null,
   "metadata": {},
   "outputs": [],
   "source": [
    "df_merged = pd.concat([X_train_after_balancing, y_train_after_balancing], axis=1)\n",
    "for att in df_merged.columns[:-1]:  # type: ignore\n",
    "    df_merged.hist(column=att, by='class', bins = 7, figsize=(15,4),layout = (1,3), color='r')\n",
    "    print(att)\n",
    "    plt.show()"
   ]
  },
  {
   "cell_type": "code",
   "execution_count": null,
   "metadata": {},
   "outputs": [],
   "source": [
    "df_merged = pd.concat([X_train_after_balancing, y_train_after_balancing], axis=1)\n",
    "for att in df_merged.columns[:-1]:  # type: ignore\n",
    "    sns.boxplot(x='class', y=att, data=df_merged)\n",
    "    plt.show()"
   ]
  },
  {
   "attachments": {},
   "cell_type": "markdown",
   "metadata": {},
   "source": [
    "<h1>Outlier Detection</h1>"
   ]
  },
  {
   "cell_type": "code",
   "execution_count": null,
   "metadata": {},
   "outputs": [],
   "source": [
    "from sklearn.model_selection import GridSearchCV\n",
    "from sklearn.neighbors import LocalOutlierFactor\n",
    "\n",
    "# definisci la lista di valori da provare per n_neighbors e contamination\n",
    "param_grid = {'n_neighbors': [1, 5, 10, 15, 20], 'contamination': [0.1, 0.2, 0.3, 0.01, 0.02, 0.05, 'auto']}\n",
    "\n",
    "# crea l'oggetto LocalOutlierFactor\n",
    "lof = LocalOutlierFactor(novelty=True)\n",
    "\n",
    "# crea l'oggetto GridSearchCV\n",
    "grid_search = GridSearchCV(lof, param_grid, cv=5, scoring='accuracy')\n",
    "\n",
    "# estrai le feature dal DataFrame\n",
    "X = X_train_after_balancing[['u', 'g', 'r', 'i', 'z', 'redshift', 'plate']] # type: ignore\n",
    "\n",
    "# ottieni gli outlier con il metodo fit_predict\n",
    "grid_search.fit(X, y_train)\n",
    "\n",
    "# stampa i parametri ottimali trovati\n",
    "print(\"The best parameters are:\", grid_search.best_params_)\n"
   ]
  },
  {
   "cell_type": "code",
   "execution_count": null,
   "metadata": {},
   "outputs": [],
   "source": [
    "from sklearn.neighbors import LocalOutlierFactor\n",
    "from sklearn.model_selection import GridSearchCV\n",
    "\n",
    "df_merged = pd.concat([X_train_after_balancing, y_train_after_balancing], axis=1) # type: ignore\n",
    "print(df_merged.shape)\n",
    "\n",
    "# crea l'oggetto LocalOutlierFactor\n",
    "lof = LocalOutlierFactor(n_neighbors=5, contamination=0.01)\n",
    "\n",
    "# seleziona il DataFrame per la classe GALAXY \n",
    "# estrai le feature dal DataFrame \n",
    "# ottieni gli outlier con il metodo fit_predict\n",
    "df_galaxy = df_merged[df_merged['class'] == 0]\n",
    "X = df_galaxy[['u', 'g', 'r', 'i', 'z', 'redshift']]\n",
    "outliers_galaxy = lof.fit_predict(X)\n",
    "\n",
    "df_star = df_merged[df_merged['class'] == 1]\n",
    "X = df_star[['u', 'g', 'r', 'i', 'z', 'redshift']]\n",
    "outliers_star = lof.fit_predict(X)\n",
    "\n",
    "df_qso = df_merged[df_merged['class'] == 2]\n",
    "X = df_qso[['u', 'g', 'r', 'i', 'z', 'redshift']]\n",
    "outliers_qso = lof.fit_predict(X)\n",
    "\n",
    "df_filtered_galaxy = df_galaxy[outliers_galaxy == 1]\n",
    "df_filtered_star = df_star[outliers_star == 1]\n",
    "df_filtered_qso = df_qso[outliers_qso == 1]\n",
    "\n",
    "print(f\"Galaxy: {df_galaxy.shape} ---> {df_filtered_galaxy.shape}\")\n",
    "print(f\"Star: {df_star.shape} ---> {df_filtered_star.shape}\")\n",
    "print(f\"QSO: {df_qso.shape} ---> {df_filtered_qso.shape}\")\n",
    "\n",
    "df_after_outlier = pd.concat([df_filtered_galaxy, df_filtered_star, df_filtered_qso])\n",
    "print(df_after_outlier.shape)"
   ]
  },
  {
   "cell_type": "code",
   "execution_count": null,
   "metadata": {},
   "outputs": [],
   "source": [
    "for att in df_after_outlier.columns[:-1]:  # type: ignore\n",
    "    sns.boxplot(x='class', y=att, data=df_after_outlier)\n",
    "    plt.show()"
   ]
  },
  {
   "cell_type": "code",
   "execution_count": null,
   "metadata": {},
   "outputs": [],
   "source": [
    "# Split the dataset into features and classs\n",
    "X_train = df_after_outlier.drop('class', axis=1)\n",
    "y_train = df_after_outlier['class']\n",
    "X_train = X_train.drop(['last'], axis=1)\n",
    "print(X_train.keys())"
   ]
  },
  {
   "cell_type": "markdown",
   "metadata": {},
   "source": [
    "<h1 style=\"font-weight: bold\">CLASSIFICATION</h1>"
   ]
  },
  {
   "cell_type": "code",
   "execution_count": null,
   "metadata": {},
   "outputs": [],
   "source": [
    "# Split the dataset into features and classs\n",
    "X_train_class = X_train\n",
    "y_train_class = y_train\n",
    "X_train_class.shape, y_train_class.shape"
   ]
  },
  {
   "cell_type": "code",
   "execution_count": null,
   "metadata": {},
   "outputs": [],
   "source": [
    "X_test_drop = X_test.drop(['objid', 'ra', 'run', 'rerun', 'camcol', 'field', 'fiberid', 'last'], axis = 1) # type: ignore"
   ]
  },
  {
   "attachments": {},
   "cell_type": "markdown",
   "metadata": {},
   "source": [
    "<h2>KNeighborsClassifier</h2>\n",
    "I tried to perform KNN with different k, for understand which is the best. <br>\n",
    "I decided to use the euclidean and the manhattan distance, for make a comparison"
   ]
  },
  {
   "cell_type": "code",
   "execution_count": null,
   "metadata": {},
   "outputs": [],
   "source": [
    "k_neighbors = 100\n",
    "metrics = ['euclidean', 'manhattan']\n",
    "\n",
    "accuracy_total = []\n",
    "for k in range(1, k_neighbors+1, 1):\n",
    "    accuracy_k = []\n",
    "    for metric in metrics:\n",
    "        knn = KNeighborsClassifier(n_neighbors=k, metric=metric)\n",
    "        knn.fit(X_train_class, y_train_class)\n",
    "        y_predKNN = knn.predict(X_test_drop)\n",
    "        accuracy = accuracy_score(y_test, y_predKNN)\n",
    "        accuracy_k.append(accuracy)\n",
    "        # print(f\"For metric = {metric} and k = {k}:      ACCURACY = {accuracy}\")\n",
    "    accuracy_total.append(accuracy_k)\n",
    "\n",
    "accuracy_df = pd.DataFrame(np.array(accuracy_total), columns=metrics)\n",
    "k_df = pd.DataFrame([1,2,3,4,5,6,7,8,9,10,11,12,13,14,15,16,17,18,19,20,21,22,23,24,25,26,27,28,29,30,31,32,33,34,35,36,37,38,39,40,41,42,43,44,45,46,47,48,49,50,51,52,53,54,55,56,57,58,59,60,61,62,63,64,65,66,67,68,69,70,71,72,73,74,75,76,77,78,79,80,81,82,83,84,85,86,87,88,89,90,91,92,93,94,95,96,97,98,99,100], columns=['k'])\n",
    "accuracy_join= k_df.join(accuracy_df)"
   ]
  },
  {
   "attachments": {},
   "cell_type": "markdown",
   "metadata": {},
   "source": [
    "The following snip of code shows us the trend of the KNN's accuracy for the euclidean and manhattan distance.<br> \n",
    "The graph for each distance it's almost the same. But the accurasy reach just the 67% in the peak, for k = 3."
   ]
  },
  {
   "cell_type": "code",
   "execution_count": null,
   "metadata": {},
   "outputs": [],
   "source": [
    "plt.plot(accuracy_join['k'], accuracy_join['euclidean'], label='euclidean')\n",
    "plt.plot(accuracy_join['k'], accuracy_join['manhattan'], label='manhattan')\n",
    "\n",
    "plt.legend()\n",
    "plt.xlabel('k')\n",
    "plt.ylabel('accuracy score')\n",
    "plt.show()"
   ]
  },
  {
   "cell_type": "code",
   "execution_count": null,
   "metadata": {},
   "outputs": [],
   "source": [
    "accuracy_ed = []\n",
    "accuracy_md = []\n",
    "\n",
    "for i in range(k_neighbors):\n",
    "    accuracy_ed.append(accuracy_total[i][0])\n",
    "    accuracy_md.append(accuracy_total[i][1])\n",
    "\n",
    "max_index = max(enumerate(accuracy_ed), key=lambda x: x[1])[0]\n",
    "print(f\"Euclidean Distance: The value of k with the higher accuracy is {max_index}. Accurasy = {accuracy_ed[max_index]}\")\n",
    "\n",
    "max_index = max(enumerate(accuracy_md), key=lambda x: x[1])[0]\n",
    "print(f\"Manhattan Distance: The value of k with the higher accuracy is: {max_index}. Accurasy = {accuracy_md[max_index]}\")\n",
    "\n",
    "accuracyKNN = accuracy_md[max_index]"
   ]
  },
  {
   "attachments": {},
   "cell_type": "markdown",
   "metadata": {},
   "source": [
    "<h2>Decision Tree</h2>"
   ]
  },
  {
   "cell_type": "code",
   "execution_count": null,
   "metadata": {},
   "outputs": [],
   "source": [
    "# Create the model\n",
    "rf = DecisionTreeClassifier()\n",
    "\n",
    "# Fit the model\n",
    "rf = rf.fit(X_train_class, y_train_class)\n",
    "y_predDT = rf.predict(X_test_drop)\n",
    "\n",
    "# Check the accuracy\n",
    "accuracyDT = accuracy_score(y_test, y_predDT)\n",
    "print(f\"Accuracy: {accuracyDT:.2f}\")\n",
    "\n",
    "# Check the performance\n",
    "scores = cross_val_score(rf, X_train_class, y_train_class, cv=10)\n",
    "print(f\"Performances: {scores}\")\n",
    "print(f\"Average performance: {scores.mean():.2f}\")\n",
    "\n"
   ]
  },
  {
   "attachments": {},
   "cell_type": "markdown",
   "metadata": {},
   "source": [
    "<h1>Random Forest</h1>"
   ]
  },
  {
   "cell_type": "code",
   "execution_count": null,
   "metadata": {},
   "outputs": [],
   "source": [
    "from sklearn.ensemble import RandomForestClassifier\n",
    "from sklearn.metrics import accuracy_score\n",
    "\n",
    "# Create the model\n",
    "rf = RandomForestClassifier(criterion=\"entropy\")\n",
    "\n",
    "# Fit the model\n",
    "rf.fit(X_train_class, y_train_class)\n",
    "\n",
    "# Check the accuracy\n",
    "y_predRF = rf.predict(X_test_drop)\n",
    "accuracyRF = accuracy_score(y_test, y_predRF)\n",
    "print(f\"Accuracy: {accuracyRF:.2f}\")"
   ]
  },
  {
   "attachments": {},
   "cell_type": "markdown",
   "metadata": {},
   "source": [
    "<h2>Bayesian Classifier</h2>"
   ]
  },
  {
   "cell_type": "code",
   "execution_count": null,
   "metadata": {},
   "outputs": [],
   "source": [
    "from sklearn.naive_bayes import GaussianNB\n",
    "from scipy.stats import pearsonr\n",
    "\n",
    "# Create the model\n",
    "gnb = GaussianNB()\n",
    "\n",
    "# Fit the model\n",
    "gnb.fit(X_train_class, y_train_class)\n",
    "\n",
    "# Check the accuracy\n",
    "y_predBC = gnb.predict(X_test_drop)\n",
    "accuracyBC = accuracy_score(y_test, y_predBC)\n",
    "print(f\"Accuracy: {accuracyBC:.2f}\")"
   ]
  },
  {
   "attachments": {},
   "cell_type": "markdown",
   "metadata": {},
   "source": [
    "<h3>ACCURACY</h3>\n",
    "Now we will analize the accuracy of all the tried classifier.<br>\n",
    "We can note that the best algorithm is Random Forest\n"
   ]
  },
  {
   "cell_type": "code",
   "execution_count": null,
   "metadata": {},
   "outputs": [],
   "source": [
    "print(f\"Accuracy of Random Forest: {accuracyRF:.2f}\")\n",
    "print(f\"Accuracy of Decision Tree: {accuracyDT:.2f}\")\n",
    "print(f\"Accuracy of KNN: {accuracyKNN:.2f}\")\n",
    "print(f\"Accuracy of Bayesian Classifier: {accuracyBC:.2f}\")"
   ]
  },
  {
   "attachments": {},
   "cell_type": "markdown",
   "metadata": {},
   "source": [
    "<h1>Evaluation of the model</h1>"
   ]
  },
  {
   "attachments": {},
   "cell_type": "markdown",
   "metadata": {},
   "source": [
    "Cross-Validation for Random Forest"
   ]
  },
  {
   "cell_type": "code",
   "execution_count": null,
   "metadata": {},
   "outputs": [],
   "source": [
    "from sklearn.model_selection import cross_val_score, learning_curve\n",
    "import matplotlib.pyplot as plt\n",
    "\n",
    "# Utilizza la cross-validation per valutare l'accuratezza del modello\n",
    "scores = cross_val_score(rf, X_train_class, y_train_class, cv=10)\n",
    "\n",
    "# Stampa i risultati della cross-validation\n",
    "print(\"Cross-validation scores:\", scores)\n",
    "print(\"Mean score:\", scores.mean())\n",
    "\n",
    "# Disegna la curva di apprendimento del modello\n",
    "train_sizes, train_scores, test_scores = learning_curve(rf, X_train_class, y_train_class, cv=10) # type: ignore\n",
    "\n",
    "plt.plot(train_sizes, train_scores.mean(axis=1), 'o-', color='r', label=\"Training score\")\n",
    "plt.plot(train_sizes, test_scores.mean(axis=1), 'o-', color='g', label=\"Cross-validation score\")\n",
    "\n",
    "plt.title(\"Learning Curves (Random Forest)\")\n",
    "plt.xlabel(\"Training examples\")\n",
    "plt.ylabel(\"Score\")\n",
    "plt.legend(loc=\"best\")\n",
    "plt.show()"
   ]
  },
  {
   "cell_type": "code",
   "execution_count": null,
   "metadata": {},
   "outputs": [],
   "source": [
    "print(train_sizes)\n",
    "print(train_scores) \n",
    "print(test_scores)"
   ]
  },
  {
   "attachments": {},
   "cell_type": "markdown",
   "metadata": {},
   "source": [
    "Here I compute the Confusion Matrix for the Random Forest algorithm\n"
   ]
  },
  {
   "cell_type": "code",
   "execution_count": null,
   "metadata": {},
   "outputs": [],
   "source": [
    "from sklearn.metrics import confusion_matrix\n",
    "confusion_matrix = confusion_matrix(y_test, y_predRF)\n",
    "\n",
    "from yellowbrick.classifier import ConfusionMatrix\n",
    "rf_cm = ConfusionMatrix(rf, classes=['GALAXY','STAR','QSO'])\n",
    "\n",
    "rf_cm.fit(X_train_class, y_train_class)\n",
    "rf_cm.score(X_test_drop, y_test)\n",
    "rf_cm.show()"
   ]
  },
  {
   "attachments": {},
   "cell_type": "markdown",
   "metadata": {},
   "source": [
    "Compute **Accuracy**, **Sensitivity**, **Specificity**, **Precision** and **Recall** form the Confusion Matrix"
   ]
  },
  {
   "cell_type": "code",
   "execution_count": null,
   "metadata": {},
   "outputs": [],
   "source": [
    "# Estraiamo gli elementi della confusion matrix che ci serviranno per calcolare le metriche\n",
    "tp0, tp1, tp2 = confusion_matrix[0, 0], confusion_matrix[1, 1], confusion_matrix[2, 2]\n",
    "fn0, fn1, fn2 = confusion_matrix[0, 1] + confusion_matrix[0, 2], confusion_matrix[1, 0] + confusion_matrix[1, 2], confusion_matrix[2, 0] + confusion_matrix[2, 1]\n",
    "fp0, fp1, fp2 = confusion_matrix[1, 0] + confusion_matrix[2, 0], confusion_matrix[0, 1] + confusion_matrix[2, 1], confusion_matrix[0, 2] + confusion_matrix[1, 2]\n",
    "tn0 = confusion_matrix[1, 1] + confusion_matrix[1, 2] + confusion_matrix[2, 1] + confusion_matrix[2, 2]\n",
    "tn1 = confusion_matrix[0, 0] + confusion_matrix[0, 2] + confusion_matrix[2, 0] + confusion_matrix[2, 2]\n",
    "tn2 = confusion_matrix[0, 0] + confusion_matrix[0, 1] + confusion_matrix[1, 0] + confusion_matrix[1, 1]\n",
    "\n",
    "# Calcoliamo le metriche\n",
    "accuracy0 = (tp0 + tn0)/confusion_matrix.sum()\n",
    "accuracy1 = (tp1 + tn1)/confusion_matrix.sum()\n",
    "accuracy2 = (tp2 + tn2)/confusion_matrix.sum()\n",
    "sensitivity0 = tp0 / (tp0 + fn0)\n",
    "sensitivity1 = tp1 / (tp1 + fn1)\n",
    "sensitivity2 = tp2 / (tp2 + fn2)\n",
    "specificity0 = tn0 / (tn0 + fp0)\n",
    "specificity1 = tn1 / (tn1 + fp1)\n",
    "specificity2 = tn2 / (tn2 + fp2)\n",
    "precision0 = tp0 / (tp0 + fp0)\n",
    "precision1 = tp1 / (tp1 + fp1)\n",
    "precision2 = tp2 / (tp2 + fp2)\n",
    "recall0 = tp0 / (tp0 + fn0)\n",
    "recall1 = tp1 / (tp1 + fn1)\n",
    "recall2 = tp2 / (tp2 + fn2)\n",
    "fMeasure0 = (2*recall0*precision0)/(recall0+precision0)\n",
    "fMeasure1 = (2*recall1*precision1)/(recall1+precision1)\n",
    "fMeasure2 = (2*recall2*precision2)/(recall2+precision2)\n",
    "\n",
    "\n",
    "print(f\"Accuracy (GALAXY): {accuracy0:.2f}\")\n",
    "print(f\"Accuracy (STAR): {accuracy1:.2f}\")\n",
    "print(f\"Accuracy (QUASAR): {accuracy2:.2f}\")\n",
    "print()\n",
    "print(f\"Sensitivity (GALAXY): {sensitivity0:.2f}\")\n",
    "print(f\"Sensitivity (STAR): {sensitivity1:.2f}\")\n",
    "print(f\"Sensitivity (QUASAR): {sensitivity2:.2f}\")\n",
    "print()\n",
    "print(f\"Specificity (GALAXY): {specificity0:.2f}\")\n",
    "print(f\"Specificity (STAR): {specificity1:.2f}\")\n",
    "print(f\"Specificity (QUASAR): {specificity2:.2f}\")\n",
    "print()\n",
    "print(f\"Precision (GALAXY): {precision0:.2f}\")\n",
    "print(f\"Precision (STAR): {precision1:.2f}\")\n",
    "print(f\"Precision (QUASAR): {precision2:.2f}\")\n",
    "print()\n",
    "print(f\"Recall (GALAXY): {recall0:.2f}\")\n",
    "print(f\"Recall (STAR): {recall1:.2f}\")\n",
    "print(f\"Recall (QUASAR): {recall2:.2f}\")\n",
    "print()\n",
    "print(f\"F Measure (GALAXY): {fMeasure0:.2f}\")\n",
    "print(f\"F Measure (STAR): {fMeasure1:.2f}\")\n",
    "print(f\"F Measure (QUASAR): {fMeasure2:.2f}\")"
   ]
  },
  {
   "attachments": {},
   "cell_type": "markdown",
   "metadata": {},
   "source": [
    "<h1 style=\"font-weight: bold\">Save The Model<h1>"
   ]
  },
  {
   "attachments": {},
   "cell_type": "markdown",
   "metadata": {},
   "source": [
    "<p style=\"size: 12pt\">I'll save the model of Random Forest in a file, for using them in an external application</p>"
   ]
  },
  {
   "cell_type": "code",
   "execution_count": null,
   "metadata": {},
   "outputs": [],
   "source": [
    "with open('starClassificationApp/model.pkl', 'wb') as f:\n",
    "    pickle.dump(rf, f)"
   ]
  }
 ],
 "metadata": {
  "kernelspec": {
   "display_name": "DMML",
   "language": "python",
   "name": "python3"
  },
  "language_info": {
   "codemirror_mode": {
    "name": "ipython",
    "version": 3
   },
   "file_extension": ".py",
   "mimetype": "text/x-python",
   "name": "python",
   "nbconvert_exporter": "python",
   "pygments_lexer": "ipython3",
   "version": "3.10.4"
  },
  "vscode": {
   "interpreter": {
    "hash": "108577842efddff3bd4824ec9bdd12effc6dfe96f030cd77b02bee11f8da132d"
   }
  }
 },
 "nbformat": 4,
 "nbformat_minor": 2
}
